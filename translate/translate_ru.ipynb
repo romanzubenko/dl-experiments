{
 "cells": [
  {
   "cell_type": "code",
   "execution_count": 1,
   "metadata": {},
   "outputs": [
    {
     "name": "stderr",
     "output_type": "stream",
     "text": [
      "/usr/local/lib/python3.9/site-packages/tqdm/auto.py:22: TqdmWarning: IProgress not found. Please update jupyter and ipywidgets. See https://ipywidgets.readthedocs.io/en/stable/user_install.html\n",
      "  from .autonotebook import tqdm as notebook_tqdm\n"
     ]
    }
   ],
   "source": [
    "import torch\n",
    "import torch.nn as nn\n",
    "import torch.nn.functional as F\n",
    "from torch import optim\n",
    "import re\n",
    "import unicodedata\n",
    "import random"
   ]
  },
  {
   "cell_type": "code",
   "execution_count": 2,
   "metadata": {},
   "outputs": [],
   "source": [
    "SOS_TOKEN = 0\n",
    "EOS_TOKEN = 1\n",
    "\n",
    "class Lang():\n",
    "    def __init__(self, name):\n",
    "        self.name = name\n",
    "        self.word2index = {}\n",
    "        self.word2count = {}\n",
    "        self.index2word = {SOS_TOKEN:'SOS', EOS_TOKEN: 'EOS'}\n",
    "        self.n_words = 2\n",
    "    \n",
    "    def addWord(self, word):\n",
    "        if word not in self.word2index:\n",
    "            self.word2index[word] = self.n_words\n",
    "            self.index2word[self.n_words] = word\n",
    "            self.word2count[word] = 1\n",
    "            self.n_words += 1\n",
    "            \n",
    "        else:\n",
    "            self.word2count[word] = 1\n",
    "\n",
    "    def addSentence(self, sentence):\n",
    "        for word in sentence.split(' '):\n",
    "            self.addWord(word)"
   ]
  },
  {
   "cell_type": "code",
   "execution_count": 23,
   "metadata": {},
   "outputs": [],
   "source": [
    "# Turn a Unicode string to plain ASCII, thanks to\n",
    "# https://stackoverflow.com/a/518232/2809427\n",
    "def unicodeToAscii(s):\n",
    "    return ''.join(\n",
    "        c for c in unicodedata.normalize('NFD', s)\n",
    "        if unicodedata.category(c) != 'Mn'\n",
    "    )\n",
    "\n",
    "# Lowercase, trim, and remove non-letter characters\n",
    "\n",
    "\n",
    "def normalizeString(s):\n",
    "    s = unicodeToAscii(s.lower().strip())\n",
    "    s = re.sub(r\"([.!?])\", r\" \\1\", s)\n",
    "    # s = re.sub(r\"[^a-zA-Z.!?]+\", r\" \", s)\n",
    "    return s"
   ]
  },
  {
   "cell_type": "code",
   "execution_count": 6,
   "metadata": {},
   "outputs": [
    {
     "name": "stdout",
     "output_type": "stream",
     "text": [
      "['Go.\\tМарш!\\tCC-BY 2.0 (France) Attribution: tatoeba.org #2877272 (CM) & #1159202 (shanghainese)\\n', 'Go.\\tИди.\\tCC-BY 2.0 (France) Attribution: tatoeba.org #2877272 (CM) & #5898247 (marafon)\\n', 'Go.\\tИдите.\\tCC-BY 2.0 (France) Attribution: tatoeba.org #2877272 (CM) & #5898250 (marafon)\\n', 'Hi.\\tЗдравствуйте.\\tCC-BY 2.0 (France) Attribution: tatoeba.org #538123 (CM) & #402127 (odexed)\\n', 'Hi.\\tПривет!\\tCC-BY 2.0 (France) Attribution: tatoeba.org #538123 (CM) & #466968 (katjka)\\n']\n",
      "None\n"
     ]
    }
   ],
   "source": [
    "with open('rus-eng/rus.txt') as f:\n",
    "    lines = f.readlines()\n",
    "    print(lines[:5])\n",
    "    print(re.match('\\n',lines[0]))\n"
   ]
  },
  {
   "cell_type": "code",
   "execution_count": 86,
   "metadata": {},
   "outputs": [],
   "source": [
    "class Encoder(nn.Module):\n",
    "    def __init__(self, input_size, embedding_size, hidden_size):\n",
    "        super(Encoder, self).__init__()\n",
    "        self.hidden_size = hidden_size\n",
    "        self.embedding_size = embedding_size\n",
    "        self.embedding = nn.Embedding(input_size, embedding_size)\n",
    "        self.rnn = nn.GRU(embedding_size, hidden_size)\n",
    "\n",
    "    def forward(self, input, hidden):\n",
    "        embed = self.embedding(input).view(1,1,-1)\n",
    "        # let's log it first to see the shape\n",
    "        # need to unroll it with \n",
    "        out, hidden = self.rnn(embed, hidden)\n",
    "\n",
    "        return (out, hidden)\n",
    "    \n",
    "    def initHidden(self):\n",
    "        return torch.zeros(1, 1, self.hidden_size)\n",
    "\n",
    "class Decoder(nn.Module):\n",
    "    def __init__(self, input_size, embedding_size, hidden_size):\n",
    "        super(Decoder, self).__init__()\n",
    "        self.hidden_size = hidden_size\n",
    "\n",
    "        self.embedding = nn.Embedding(input_size, embedding_size)\n",
    "        self.rnn = nn.GRU(embedding_size, hidden_size)\n",
    "        self.out = nn.Linear(hidden_size, input_size)\n",
    "        self.softmax = nn.LogSoftmax(dim=2)\n",
    "\n",
    "    def forward(self, input, hidden):\n",
    "        \n",
    "        embed = self.embedding(input).view(1,1,-1)\n",
    "        out = F.relu(embed)\n",
    "        out, hidden = self.rnn(out, hidden)\n",
    "        out = self.out(out)\n",
    "        out = self.softmax(out)\n",
    "\n",
    "        return (out, hidden)\n",
    "    \n",
    "    def initHidden(self):\n",
    "        return torch.zeros(1, 1, self.hidden_size)"
   ]
  },
  {
   "cell_type": "code",
   "execution_count": null,
   "metadata": {},
   "outputs": [],
   "source": []
  },
  {
   "cell_type": "code",
   "execution_count": 24,
   "metadata": {},
   "outputs": [
    {
     "data": {
      "text/plain": [
       "[['go .', 'марш !'],\n",
       " ['go .', 'иди .'],\n",
       " ['go .', 'идите .'],\n",
       " ['hi .', 'здравствуите .'],\n",
       " ['hi .', 'привет !'],\n",
       " ['hi .', 'хаи .'],\n",
       " ['hi .', 'здрасте .'],\n",
       " ['hi .', 'здорово !'],\n",
       " ['hi .', 'приветик !'],\n",
       " ['run !', 'беги !']]"
      ]
     },
     "execution_count": 24,
     "metadata": {},
     "output_type": "execute_result"
    }
   ],
   "source": [
    "lang1 = 'eng'\n",
    "lang2 = 'rus'\n",
    "lines = open('data/%s-%s.txt' % (lang1, lang2), encoding='utf-8').\\\n",
    "        read().strip().split('\\n')\n",
    "\n",
    "lines[:10]\n",
    "pairs = [[normalizeString(s) for s in l.split('\\t')[:2]] for l in lines]\n",
    "pairs[:10]"
   ]
  },
  {
   "cell_type": "code",
   "execution_count": 97,
   "metadata": {},
   "outputs": [],
   "source": [
    "def readLangs(lang1, lang2, reverse=False):\n",
    "    print(\"Reading lines...\")\n",
    "\n",
    "    # Read the file and split into lines\n",
    "    lines = open('data/%s-%s.txt' % (lang1, lang2), encoding='utf-8').\\\n",
    "        read().strip().split('\\n')\n",
    "\n",
    "    # Split every line into pairs and normalize\n",
    "    pairs = [[normalizeString(s) for s in l.split('\\t')[:2]] for l in lines]\n",
    "    print(pairs[:20])\n",
    "    # Reverse pairs, make Lang instances\n",
    "    if reverse:\n",
    "        pairs = [list(reversed(p)) for p in pairs]\n",
    "        input_lang = Lang(lang2)\n",
    "        output_lang = Lang(lang1)\n",
    "    else:\n",
    "        input_lang = Lang(lang1)\n",
    "        output_lang = Lang(lang2)\n",
    "\n",
    "    return input_lang, output_lang, pairs\n",
    "\n",
    "MAX_LENGTH = 10\n",
    "\n",
    "eng_prefixes = (\n",
    "    \"i am \", \"i m \",\n",
    "    \"he is\", \"he s \",\n",
    "    \"she is\", \"she s \",\n",
    "    \"you are\", \"you re \",\n",
    "    \"we are\", \"we re \",\n",
    "    \"they are\", \"they re \",\n",
    "    \"he\", \n",
    "    \"she\",\n",
    "    \"you\",\n",
    "    \"we\", \n",
    "    \"they\", \n",
    "    \"we\",\n",
    "    \"it\",\n",
    "    \"can\",\n",
    "    \"do\", \n",
    ")\n",
    "\n",
    "\n",
    "def filterPair(p):\n",
    "    return len(p[0].split(' ')) < MAX_LENGTH and \\\n",
    "        len(p[1].split(' ')) < MAX_LENGTH and \\\n",
    "        p[1].startswith(eng_prefixes)\n",
    "\n",
    "\n",
    "def filterPairs(pairs):\n",
    "    return [pair for pair in pairs if filterPair(pair)]"
   ]
  },
  {
   "cell_type": "code",
   "execution_count": 98,
   "metadata": {},
   "outputs": [
    {
     "name": "stdout",
     "output_type": "stream",
     "text": [
      "Reading lines...\n",
      "[['go .', 'марш !'], ['go .', 'иди .'], ['go .', 'идите .'], ['hi .', 'здравствуите .'], ['hi .', 'привет !'], ['hi .', 'хаи .'], ['hi .', 'здрасте .'], ['hi .', 'здорово !'], ['hi .', 'приветик !'], ['run !', 'беги !'], ['run !', 'бегите !'], ['run .', 'беги !'], ['run .', 'бегите !'], ['who ?', 'кто ?'], ['wow !', 'вот это да !'], ['wow !', 'круто !'], ['wow !', 'здорово !'], ['wow !', 'ух ты !'], ['wow !', 'ого !'], ['wow !', 'вах !']]\n",
      "Read 451436 sentence pairs\n",
      "Trimmed to 89586 sentence pairs\n",
      "Counting words...\n",
      "Counted words:\n",
      "rus 25286\n",
      "eng 9066\n",
      "['есть у вас сельскохозяиственные животные ?', 'do you have any farm animals ?']\n",
      "['сеичас в бостоне влажно .', \"it's humid now in boston .\"]\n"
     ]
    }
   ],
   "source": [
    "def prepareData(lang1, lang2, reverse=False):\n",
    "    input_lang, output_lang, pairs = readLangs(lang1, lang2, reverse)\n",
    "    print(\"Read %s sentence pairs\" % len(pairs))\n",
    "    pairs = filterPairs(pairs)\n",
    "    print(\"Trimmed to %s sentence pairs\" % len(pairs))\n",
    "    print(\"Counting words...\")\n",
    "    for pair in pairs:\n",
    "        input_lang.addSentence(pair[0])\n",
    "        output_lang.addSentence(pair[1])\n",
    "    print(\"Counted words:\")\n",
    "    print(input_lang.name, input_lang.n_words)\n",
    "    print(output_lang.name, output_lang.n_words)\n",
    "    return input_lang, output_lang, pairs\n",
    "\n",
    "\n",
    "input_lang, output_lang, pairs = prepareData('eng', 'rus', True)\n",
    "print(random.choice(pairs))\n",
    "print(random.choice(pairs))"
   ]
  },
  {
   "cell_type": "code",
   "execution_count": 99,
   "metadata": {},
   "outputs": [
    {
     "name": "stdout",
     "output_type": "stream",
     "text": [
      "(tensor([[12405],\n",
      "        [  591],\n",
      "        [  103],\n",
      "        [  104],\n",
      "        [    1]]), tensor([[   4],\n",
      "        [  25],\n",
      "        [ 921],\n",
      "        [ 620],\n",
      "        [3050],\n",
      "        [  60],\n",
      "        [   1]]), 'вопросы еще есть ?', 'do you still have questions ?')\n",
      "(tensor([[  44],\n",
      "        [6127],\n",
      "        [ 226],\n",
      "        [ 967],\n",
      "        [2320],\n",
      "        [2321],\n",
      "        [ 104],\n",
      "        [   1]]), tensor([[  25],\n",
      "        [1220],\n",
      "        [  23],\n",
      "        [2189],\n",
      "        [ 194],\n",
      "        [  60],\n",
      "        [   1]]), 'вы ведь уже знаете об этом ?', 'you already know that, right ?')\n"
     ]
    }
   ],
   "source": [
    "# ideally we hot encode the dataset, so we don't do it at the time of the training loop\n",
    "dataset = []\n",
    "\n",
    "def sentenceToIndexes(lang, sentence):\n",
    "    return [lang.word2index[word] for word in sentence.split(' ')]\n",
    "\n",
    "def sentenceToTensor(lang, sentence):\n",
    "    ind = sentenceToIndexes(lang, sentence)\n",
    "    ind.append(EOS_TOKEN)\n",
    "\n",
    "    return torch.tensor(ind,dtype=torch.long).view(-1, 1)\n",
    "\n",
    "for pair in pairs:\n",
    "    dataset.append((\n",
    "        sentenceToTensor(input_lang,pair[0]),\n",
    "        sentenceToTensor(output_lang,pair[1]),\n",
    "        pair[0],\n",
    "        pair[1]\n",
    "    \n",
    "    ))\n",
    "\n",
    "\n",
    "\n",
    "print(random.choice(dataset))\n",
    "print(random.choice(dataset))\n",
    "    "
   ]
  },
  {
   "cell_type": "markdown",
   "metadata": {},
   "source": [
    "# Training loop"
   ]
  },
  {
   "cell_type": "code",
   "execution_count": 102,
   "metadata": {},
   "outputs": [
    {
     "name": "stdout",
     "output_type": "stream",
     "text": [
      "25286\n",
      "9066\n"
     ]
    },
    {
     "data": {
      "text/plain": [
       "'help'"
      ]
     },
     "execution_count": 102,
     "metadata": {},
     "output_type": "execute_result"
    }
   ],
   "source": [
    "print(input_lang.n_words)\n",
    "print(output_lang.n_words)\n"
   ]
  },
  {
   "cell_type": "code",
   "execution_count": 30,
   "metadata": {},
   "outputs": [],
   "source": [
    "def outputToLang(output):\n",
    "    to_lang = []\n",
    "    for b in output:\n",
    "        a = torch.argmax(b)\n",
    "        to_lang.append(output_lang.index2word[a.item()])\n",
    "    \n",
    "    return ' '.join(to_lang)"
   ]
  },
  {
   "cell_type": "code",
   "execution_count": 101,
   "metadata": {},
   "outputs": [],
   "source": [
    "TEACHER_PERCENT = 0.5\n",
    "criterion = nn.NLLLoss() \n",
    "\n",
    "def trainSentence(input_tensor, target_tensor, encoder, decoder, encoder_optimizer, decoder_optimizer): \n",
    "    encoder_optimizer.zero_grad() \n",
    "    decoder_optimizer.zero_grad() \n",
    "    \n",
    "    hidden = encoder.initHidden() \n",
    "    loss = 0.0\n",
    "\n",
    "    for word in input_tensor: \n",
    "        output, hidden = encoder(word, hidden) \n",
    "    \n",
    "    output_tensors = [] \n",
    "    prev_word = torch.tensor([SOS_TOKEN]) \n",
    "    for word in target_tensor: \n",
    "        output, hidden = decoder(prev_word, hidden) \n",
    "        \n",
    "        if random.random() < TEACHER_PERCENT:\n",
    "            prev_word = word \n",
    "        else:\n",
    "            # use your own prediction\n",
    "            prev_word = torch.argmax(output[0])\n",
    "        \n",
    "        loss += criterion(output[0], word)\n",
    "        output_tensors.append(output[0]) \n",
    "\n",
    "    normalized_loss = loss.item() / (target_tensor.size(0) + 0.0)\n",
    "\n",
    "    loss.backward()\n",
    "    encoder_optimizer.step()\n",
    "    decoder_optimizer.step()\n",
    "\n",
    "    return (output_tensors, normalized_loss)"
   ]
  },
  {
   "cell_type": "code",
   "execution_count": 103,
   "metadata": {},
   "outputs": [],
   "source": [
    "# instantiate the network\n",
    "hidden_size = 500\n",
    "embedding_size = 128\n",
    "learning_rate = 0.003\n",
    "encoder = Encoder(input_lang.n_words, 250, hidden_size) \n",
    "decoder = Decoder(output_lang.n_words, 150, hidden_size) \n",
    "encoder_optimizer = optim.Adam(encoder.parameters(), lr=learning_rate) \n",
    "decoder_optimizer = optim.Adam(decoder.parameters(), lr=learning_rate) \n",
    "sample_ouputs = []\n",
    "all_losses = []\n"
   ]
  },
  {
   "cell_type": "code",
   "execution_count": 88,
   "metadata": {},
   "outputs": [
    {
     "data": {
      "text/plain": [
       "<bound method Module.parameters of Encoder(\n",
       "  (embedding): Embedding(63800, 128)\n",
       "  (rnn): GRU(128, 1000)\n",
       ")>"
      ]
     },
     "execution_count": 88,
     "metadata": {},
     "output_type": "execute_result"
    }
   ],
   "source": [
    "encoder.parameters"
   ]
  },
  {
   "cell_type": "code",
   "execution_count": 104,
   "metadata": {},
   "outputs": [
    {
     "name": "stdout",
     "output_type": "stream",
     "text": [
      "index..  50  loss......  6.5955433917878175\n",
      "[('вам еще нужны деньги ?', 'you you ? EOS EOS EOS ?'), ('не говори им правду, ладно ?', 'you you you ? ? EOS ? EOS'), ('они все хотят знать, что случилось .', 'she she both both i . EOS . EOS'), ('у нас наконец есть все, что нужно .', 'she she were both both both i EOS'), ('у них была одна проблема .', \"they it's you both both both\"), ('вы едите макароны ?', 'do you you you do EOS'), ('вы очень хорошии художник .', 'they both want want want . EOS'), ('это очень долгая история .', 'they they want want . . EOS'), ('он жил в дешевои гостинице .', 'they they very very . . . EOS'), ('рад тебе помочь .', 'they very very very . . EOS EOS'), ('мы уже не в восьмидесятых .', 'they very very . . . . EOS'), ('он умеет продавать дома .', \"it's very very . . . . EOS\"), ('у тебя еще есть тридцать минут .', \"it's very very . . . EOS\"), ('ты можешь вынести отсюда этот мусор ?', 'do do do ? ? ? ? EOS EOS EOS'), ('он адресовал письмо своему дяде .', \"it's a a . . EOS . EOS EOS\"), ('возможно, он спал в это время .', 'he a a a . EOS . EOS . EOS'), ('думаете, том знал, что я был здесь .', 'he a a a . EOS . EOS . .'), ('не заворачиваите рыбу в газету .', 'he he a a a . EOS'), ('он почти ничего не знает об этои проблеме .', 'he he he to to a . EOS . EOS')]\n",
      "index..  100  loss......  5.83920275128077\n",
      "[('вам родители разрешают этим заниматься ?', 'do do do do ? ? ? ? EOS EOS'), ('она раскрыла нам свои секрет .', 'we know know know know know . EOS'), ('она умеет водить машину .', 'we both know know know . EOS'), ('они сидели вокруг стола и играли в карты .', 'we a a a . EOS . EOS EOS'), ('вы должны помочь .', 'do really a a . EOS'), ('вчера вечером она пыталась покончить с собои .', 'they a a time . . EOS . EOS'), ('мы вам ее уже дали .', 'they a a a . EOS . EOS'), ('он расстегнул молнию на сумке .', 'she parents eager . . . EOS'), ('твоя подача намного лучше моеи .', 'she a to help . . . . EOS'), ('вот всегда вы такие .', 'you a to to . EOS'), ('мы беспокоимся о вашем здоровье .', 'she revealed to to . . . EOS'), ('день ветреныи .', 'she a to to . EOS'), ('вы никогда не устаете ?', \"do your i'd to to to EOS\"), ('он взглянул на часы .', 'he revealed last last last . EOS'), ('нам надо следовать за томом .', 'she tried his his . . EOS'), ('не даваите тому петь .', 'we are to his . EOS'), ('это было довольно просто .', 'she to . EOS . EOS'), ('я не пишу письмо .', 'we are to . EOS . . EOS'), ('ты меня нервируешь .', 'we to his . . EOS')]\n",
      "index..  150  loss......  5.798493314470565\n",
      "[('нам деиствительно надо вернуться в бостон .', 'we told do to anymore . . EOS . EOS'), ('я плохои человек .', 'we do is it to . EOS'), ('не будьте жестокои .', 'we told do do EOS'), ('он упал в бездонную яму .', 'he told he told he told to me'), ('тебе самому надо это сделать .', 'we it it told to it to to'), ('ты нравишься тому ?', 'can do do do to do'), ('вы каждыи день ходите в школу пешком ?', 'do do do do do do do do to'), ('можете сказать это еще раз ?', 'do do do to to to to . EOS'), ('это распространенное французское выражение .', \"we you'd to . EOS . EOS\"), ('можете встать, если хотите .', 'we have to . EOS . . . . EOS'), ('мы не ожидали, что это случится .', 'we said have . . me . EOS'), ('ты молодая и сильная .', 'you have to EOS . EOS'), ('вы не понимаете, что это значит ?', 'you you walk walk ? EOS ? EOS'), ('мы с ним дружим .', 'we walk to . EOS . EOS'), ('он живет где-то около парка .', 'he fell to EOS . EOS . EOS'), ('они находятся в саду .', 'he be . EOS . EOS'), ('то, что еи движет, — это гордость .', 'you you to . . EOS EOS'), ('смотреть телевизор весело .', 'he a . EOS . . EOS'), ('у них есть взрывчатка .', 'you have to . EOS')]\n",
      "index..  200  loss......  5.435702378575765\n",
      "[('недавно мы понизили цены .', 'we to to to . EOS EOS'), ('мы тебя повсюду искали .', 'we like to . EOS . EOS'), ('его происхождение неизвестно .', \"it's not . . . EOS\"), ('можно мне попользоваться твоим карандашом ?', 'does not not ? EOS ? EOS'), ('ты знаешь того плачущего мальчика ?', 'does like ? ? ? ? ? ? ?'), ('он прошел мимо, не заметив меня .', \"he's not . EOS . EOS . EOS .\"), ('вы можете себе это позволить ?', 'does better, better, better, better, better,'), ('ты не дал нам шанса .', \"you're not use bathroom anything . EOS anything\"), ('вы катаетесь на лыжах ?', \"you're feeling better, aren't you\"), ('вам надо будет спросить у тома .', \"you're use bleed death anything anything EOS\"), ('ты предпочитаешь кока-колу или пепси ?', 'can you you us you us you EOS'), ('ты любишь танцевать ?', 'can you you you ? EOS ?'), ('это было нам не по карману .', \"it's not us us us EOS\"), ('вы должны его остановить .', \"you're you . . . EOS\"), ('ты выглядишь больным .', 'you you us . EOS'), ('мы не можем перенести собрание .', 'we looked . EOS . EOS EOS'), ('не будьте таким привередливым .', 'you must . EOS . EOS'), ('вы знаете, что вы правы, не так ли ?', 'you you ? ? EOS EOS EOS EOS EOS'), ('она попыталась покончить с собои .', 'we must . EOS . . EOS')]\n",
      "index..  250  loss......  5.403595584475806\n",
      "[('ты пьешь пиво ?', 'you like ? ? ? EOS'), ('не кажется ли тебе, что тебе пора уходить ?', \"don't you ? ? ? ? ? ? EOS\"), ('он выставил свои дом на продажу .', 'he cruel anybody anybody anybody anybody anybody anybody'), ('мы были шокированы тем, что том сделал .', 'we must . . . . . EOS EOS'), ('вам больше не разрешено этого делать .', 'you be a . . . EOS EOS EOS'), ('она прочла стихотворение вслух .', 'she must good nice . EOS EOS EOS'), ('мы будем держаться вместе .', 'we must keep . EOS'), ('он сегодня ночью дежурит .', 'he cruel his . . . . EOS'), ('ты всегда можешь вернуться .', 'you must keep believe . EOS EOS'), ('вы все еще играете в хоккеи ?', 'you you you believe ? EOS EOS'), ('это том виноват .', 'you is a is .'), ('вы должны немедленно вернуться .', 'you must on . EOS .'), ('она не могла понять смысл его рассказа .', 'she speaks is out . . EOS . . EOS'), ('нам просто нужно еще немного времени .', 'you must . EOS . . EOS . EOS'), ('заимет время, чтобы все приготовить .', 'you must . . EOS . EOS . EOS'), ('он был поэтом и писателем .', 'he advertised his his . . EOS .'), ('сегодня утром вы опоздали .', 'you must a . EOS . EOS'), ('вам не стоит ехать однои .', \"don't just time time time . EOS\"), ('вы слишком рано пришли .', 'you must always time . EOS')]\n",
      "index..  300  loss......  5.208272434613061\n",
      "[('можете вернуться .', 'you already know . . EOS'), ('он отлично работал .', 'he he he . .'), ('может быть, она не знает, что мы здесь .', \"it haven't at . EOS . . . EOS EOS\"), ('это требует времени .', 'they i . .'), ('ты любишь рыбачить ?', 'do you want me ? ?'), ('ты неуважителен .', 'you probably me .'), ('это не выгорело .', \"it it's . EOS . EOS EOS\"), ('есть такое же другого цвета ?', 'do you still ? ? EOS ? EOS ?'), ('ты что, не можешь ее открыть ?', 'do you like me ? EOS ? EOS'), ('пахнет чем-то горелым .', 'it not not . EOS EOS EOS'), ('они не хотели есть .', 'they agreed . EOS .'), ('это было деиствительно странно .', 'it did . . . EOS'), ('ты с ними знаком ?', 'do you like come ? EOS'), ('это хорошии сон .', 'it did . EOS EOS EOS'), ('они кошек не любят .', 'they . . EOS . EOS'), ('ты слишком шумишь .', 'it disrespectful . EOS EOS'), ('он дал мне немного денег .', 'it worked come come come . EOS'), ('он сказал, что очень счастлив .', 'it worked come come . EOS EOS . EOS'), ('он говорил .', 'it was come come')]\n",
      "index..  350  loss......  5.155253749998789\n",
      "[('они не хотят вставать с постели .', 'they changed changed ? ? EOS ? EOS EOS EOS'), ('он верит всему, что я ни скажу .', 'he was completely better the better EOS'), ('их поимают .', \"we don't you have be\"), ('там было много женщин ?', 'do you think ever you you think'), ('ты это очень часто делаешь ?', 'do you think you you ? ? ?'), ('выглядит деиствительно ужасно .', 'do get you to to EOS'), ('мы с тобои не идем .', \"we don't don't you . EOS the\"), ('бояться нет причин .', \"you'll get get say . be . EOS EOS\"), ('вам нельзя входить в эту комнату .', 'we need need . EOS . EOS EOS . EOS'), ('дождь не прекращается третии день .', \"don't happened it to to be . EOS EOS\"), ('мы оба знаем, что это неправда .', \"we're going going . . EOS EOS EOS\"), ('это эффективно на 99,9% .', \"it's going to to be EOS\"), ('это стоит два евро .', \"it's going to be . EOS\"), ('на этот вопрос ответить легко .', \"it's caught bad . EOS . . . EOS\"), ('я могу себе ее позволить ?', 'does this to anything . EOS'), ('вы знаете, что вам нужно ?', 'do you want ? . EOS . EOS'), ('вы когда-нибудь говорите с родителями по-французски ?', 'do you want ? EOS ? EOS ? EOS EOS'), ('ты думаешь, я вчера родился ?', 'do you do often ? EOS ? EOS ?'), ('у нас таких сведении нет .', \"it's 99 caught . . EOS .\")]\n",
      "index..  400  loss......  5.19166360799093\n",
      "[('мы поедем с вами .', 'we all . . . EOS'), ('ее вилла находится на холме .', 'it wiped to . EOS . . EOS'), ('ты переоцениваешь их важность .', \"you're my . EOS EOS EOS\"), ('не боитесь, я здесь .', \"don't wrap . . . . EOS\"), ('вы грязныи .', \"you're an an .\"), ('ты похож на борца .', \"you're lost, i'm . . . EOS\"), ('вы не скучаете по тому ?', \"do you i'm i'm idiot EOS\"), ('не пои .', \"don't works me on\"), ('он музыковед .', 'he wiped fix on on'), ('ты веришь, что есть приведения ?', \"do you aren't some some some ? EOS\"), ('они замышляют убить короля .', 'it it you have will concert the EOS'), ('мы смогли добраться туда вовремя .', 'we quit with with . . EOS . EOS'), ('с вами было приятно работать .', 'it was sits the idea . EOS EOS EOS'), ('это барахло .', 'it a idea EOS'), ('ты мог бы сделать это .', 'you look . EOS EOS . EOS'), ('вы можете наити ее ?', 'do you have ? EOS EOS'), ('это плохая болезнь .', 'it a . EOS . EOS'), ('не будьте такими эгоистками .', \"don't sing . EOS . EOS\"), ('мы надеемся, что вы сможете нам помочь .', 'we get . . . EOS . . EOS')]\n"
     ]
    }
   ],
   "source": [
    "# main loop\n",
    "total_loss = 0.0\n",
    "index = 0\n",
    "iters = 400\n",
    "batch = 5\n",
    "plot_every = 50\n",
    "\n",
    "for i in range(0, iters):\n",
    "    index += 1\n",
    "    datum = random.choice(dataset)\n",
    "    output, normalized_loss = trainSentence(datum[0], datum[1], encoder, decoder, encoder_optimizer, decoder_optimizer)\n",
    "    total_loss += normalized_loss\n",
    "\n",
    "    sample_ouputs.append((datum[2],outputToLang(output)))\n",
    "     \n",
    "    if index % plot_every == 0:\n",
    "        all_losses.append(total_loss / (plot_every + 0.0))\n",
    "        total_loss = 0\n",
    "        print('index.. ', index, ' loss...... ',all_losses[-1])\n",
    "        print(sample_ouputs[-20:-1])"
   ]
  },
  {
   "cell_type": "code",
   "execution_count": 91,
   "metadata": {},
   "outputs": [
    {
     "data": {
      "text/plain": [
       "[('я знал, что том боится мэри .', 'i make i like ? EOS . . EOS'),\n",
       " ('думаи о своих целях .', \"what's isn't ? ? EOS EOS\"),\n",
       " ('авария произошла на этом перекрестке .', 'i says you . . . . EOS'),\n",
       " ('тому нравится, как мэри это сделала .',\n",
       "  \"what's says phone ? . . EOS . EOS\"),\n",
       " ('ты чокнутыи .', 'i watch you . EOS'),\n",
       " ('вы хотите знать, что том мне сказал ?',\n",
       "  'did you start you help you you . EOS . EOS'),\n",
       " ('сходи за помощью .', 'i that that mary mary'),\n",
       " ('он без труда переплыл реку .', 'he he is for . EOS . mary . EOS'),\n",
       " ('ее нарекли мэри .', 'i tom tom mary mary mary'),\n",
       " ('в гостинице полно иностранцев .', 'tom is is mary . . EOS'),\n",
       " ('том — банкир .', 'tom wanted mary mary . EOS'),\n",
       " ('фома налил чашку чая для маши .', 'the your mary EOS . . . EOS . EOS'),\n",
       " ('этот круг был начерчен циркулем .', 'tom your . EOS . EOS EOS . EOS'),\n",
       " ('это твои велосипед ?', 'do do goals ? ? EOS'),\n",
       " ('у тебя есть разрешение на рыбалку ?', 'do the is for ? ? EOS EOS'),\n",
       " ('я переехал в бостон три года назад .',\n",
       "  'tom knew for of of of of intersection across'),\n",
       " ('вам рано идти в школу .', 'tom your a a across . . . EOS'),\n",
       " ('какая цель у тома ?', 'do your your ? EOS'),\n",
       " ('моя бабушка не очень хорошо видит .', 'she swimming river for . EOS . EOS'),\n",
       " ('ты деиствительно думаешь, что меня обманули ?',\n",
       "  'do you ? EOS ? EOS ? ? EOS'),\n",
       " ('где я могу его купить ?', 'do is your to ? EOS EOS'),\n",
       " ('не обращаите внимания на ее капризы .', 'tom go go . . . . . EOS'),\n",
       " ('том вернулся в бостон двадцатого октября .',\n",
       "  \"tom hotel's a a ago . . EOS .\"),\n",
       " ('я много раз просил вас не делать этого .',\n",
       "  'i i to to boston to to to . . EOS'),\n",
       " ('это может сработать .', 'this your your to EOS'),\n",
       " ('кто тебя этому научил ?', \"what's your your ? ? ?\"),\n",
       " ('вы не можете остаться еще ненадолго ?', 'do you really to really ? ? EOS'),\n",
       " ('выпьешь еще чашечку кофе ?', \"do tom's work ? ? ? ? ? ?\"),\n",
       " ('я не думал, что это важно .', \"i've moved i was i was to EOS\"),\n",
       " ('мясо начинает портиться .', 'this moved to to school school EOS EOS'),\n",
       " ('мне было не по себе .', 'i moved i attention attention'),\n",
       " ('кто тот человек, с которым вы разговаривали ?',\n",
       "  'who taught you taught ? EOS EOS EOS EOS EOS'),\n",
       " ('мне не нравится жить одному .', 'i was i was EOS EOS EOS'),\n",
       " ('говорят, в том старом доме привидения .',\n",
       "  'this might work . . EOS EOS . EOS'),\n",
       " ('вам нравится музыка моцарта ?', 'you stay you stay to to you'),\n",
       " ('прекрати бормотать !', 'this this another drawn'),\n",
       " ('положи веревку в коробку .', 'i was . . . . . EOS'),\n",
       " ('вы смотрите телевизор по утрам ?', 'you stay stay ? ? ? EOS EOS EOS'),\n",
       " ('я принес тебе кофе .', 'i was . EOS . EOS .'),\n",
       " ('даваите просто признаем, что мы неправы .', \"i don't the . . . EOS\"),\n",
       " ('том узнал правду .', 'i was . EOS . . EOS'),\n",
       " ('где отвертка ?', 'who you you were ? ?'),\n",
       " ('не думаю, что том знает, почему мэри не любит собак .',\n",
       "  \"don't don't living the coffee the coffee . EOS coffee . . EOS\"),\n",
       " ('не думаю, что мне стоит просить тома сделать это для нас .',\n",
       "  \"don't don't don't the man in the . . . . EOS . . EOS\"),\n",
       " ('мы хотим поговорить с вами .', 'stop the the . . . EOS .'),\n",
       " ('я уже читал это .', 'i got the . EOS EOS'),\n",
       " ('я точно не знаю, когда придет том .', 'i got the that . EOS . . . EOS'),\n",
       " ('том - ветеринар .', 'tom say that that tom .'),\n",
       " ('все выглядели смущенными и испуганными .', 'put the that . EOS . EOS'),\n",
       " ('даи мне знать, если нужна будет моя помощь .', 'i tom is . . . . . EOS .'),\n",
       " ('никто не говорил, что это сработает .', 'i tom think tom mary . tom EOS'),\n",
       " ('не разговариваи так с томом .', \"i don't tom tom think tom think EOS\"),\n",
       " ('кого мне следует проинформировать ?', 'i i EOS EOS EOS EOS'),\n",
       " ('том принес мне чудесныи подарок .', 'tom already . EOS EOS . . EOS'),\n",
       " ('вы верите, что глобальное потепление является результатом человеческои деятельности ?',\n",
       "  'do you watch tv tv ? ? ? ? ? EOS EOS EOS'),\n",
       " ('как мы можем это изменить ?', \"what's should talk ? ? ? EOS\"),\n",
       " ('том, я должен тебе кое-что сказать .',\n",
       "  'everyone already need talk to need to EOS'),\n",
       " ('я ни один из ящиков не открывал .', \"i've already said to talk . . . EOS\"),\n",
       " ('том в жизни ничего не выигрывал .',\n",
       "  'tom said veterinarian veterinarian veterinarian me . EOS'),\n",
       " ('из трубы вытекала слизь .',\n",
       "  'no looked looked no should should you need EOS'),\n",
       " ('не знаю, что мне с тобои делать .', 'no should should . . EOS . . EOS EOS'),\n",
       " ('я стараюсь не плакать .', \"i've you . EOS EOS EOS EOS\"),\n",
       " ('том придет, если ты его попросишь .', 'tom said a out . EOS . . EOS EOS'),\n",
       " ('я вернусь .', \"i'm not . EOS EOS\"),\n",
       " ('том думал, что мэри умеет программировать на python, javascript и perl .',\n",
       "  'tom never a . EOS . EOS . . . . EOS . EOS'),\n",
       " ('что делаешь сегодня ?', 'do you believe you you ?'),\n",
       " ('том чуть не подавился .', 'tom never never to a'),\n",
       " ('том снял обувь .', 'tom thought if to if to ask'),\n",
       " ('они явно не представляют угрозы .', \"i don't to to to tell to\"),\n",
       " ('я хочу сходить в парк .', 'i not to cry to to boxes . EOS'),\n",
       " ('том погиб в автокатастрофе .', 'tom thought won won won won him him EOS'),\n",
       " ('почему он со мнои больше не играет ?', 'tom, doing doing ? ? ? ? ? EOS'),\n",
       " ('не думаю, что том вас слышал .', \"i don't to to to to to to to\"),\n",
       " ('не думаю, что том меня понял .', \"i don't to to i don't to to .\"),\n",
       " ('я только хочу видеть тебя счастливои .', \"i didn't . EOS EOS EOS . . EOS\"),\n",
       " ('я три недели пробыл в бостоне .', \"i didn't to the park . EOS . EOS\"),\n",
       " ('том попытался успокоиться .', 'tom almost almost in in boston EOS'),\n",
       " ('возможно, это того стоит .', 'i was in boston . EOS'),\n",
       " ('том не хочет переезжать в австралию .',\n",
       "  'tom almost in . EOS EOS EOS . EOS'),\n",
       " ('об этом я и хотел с вами поговорить .',\n",
       "  'i you tom want . EOS EOS EOS . . EOS'),\n",
       " ('что я не так сделал ?', \"what're today today you you today me\"),\n",
       " ('чего ты больше всего боишься ?', 'tom was play want want me you EOS'),\n",
       " ('лучше бы я не давал тому денег .', 'i want to want to to . . . EOS'),\n",
       " ('я одеваюсь .', 'i i want to you'),\n",
       " ('я не хочу обременять тебя своими проблемами .',\n",
       "  'i want think to talk . EOS . . . EOS'),\n",
       " ('том дал мне этот галстук .', 'tom tried to talk to . EOS'),\n",
       " ('надеюсь, ты не боишься его использовать .',\n",
       "  'what just tom you given . talk . EOS EOS'),\n",
       " ('кому принадлежит эта земля ?', 'maybe you you you ? EOS EOS EOS'),\n",
       " ('верхушка горы покрыта снегом .',\n",
       "  'what wish afraid afraid . . . . EOS EOS EOS'),\n",
       " ('я положу деньги в бумажник .',\n",
       "  'i afraid afraid afraid afraid . afraid . weeks'),\n",
       " ('мы с тобои можем работать вместе .', 'we want we wanted . EOS to EOS'),\n",
       " ('том и мэри, должно быть, волнуются .',\n",
       "  \"tom doesn't tom tom any money . EOS\"),\n",
       " ('том был обнаружен мертвым в своеи квартире .',\n",
       "  \"tom doesn't money money tie . tie . EOS\"),\n",
       " ('том сказал, что нашел ключи .', \"tom doesn't to tom . EOS . tie . EOS\"),\n",
       " ('том говорит, что он невиновен .', \"tom doesn't . EOS EOS EOS\"),\n",
       " ('я хочу, чтобы ты это сделал .', \"i don't this in this . . EOS\"),\n",
       " ('том выпил стакан водки .', 'tom was found . . . EOS .'),\n",
       " ('коровы дают нам молоко .', 'he no no in in EOS'),\n",
       " ('ждите нас в вестибюле .', 'the and in . EOS . . EOS')]"
      ]
     },
     "execution_count": 91,
     "metadata": {},
     "output_type": "execute_result"
    }
   ],
   "source": [
    "sample_ouputs[-100:-1]"
   ]
  },
  {
   "cell_type": "code",
   "execution_count": 92,
   "metadata": {},
   "outputs": [
    {
     "data": {
      "text/plain": [
       "[<matplotlib.lines.Line2D at 0x13d82f7f0>]"
      ]
     },
     "execution_count": 92,
     "metadata": {},
     "output_type": "execute_result"
    },
    {
     "data": {
      "image/png": "[encoded data removed]",
      "text/plain": [
       "<Figure size 432x288 with 1 Axes>"
      ]
     },
     "metadata": {
      "needs_background": "light"
     },
     "output_type": "display_data"
    }
   ],
   "source": [
    "import matplotlib.pyplot as plt\n",
    "\n",
    "plt.figure()\n",
    "plt.plot(all_losses)"
   ]
  },
  {
   "cell_type": "code",
   "execution_count": 93,
   "metadata": {},
   "outputs": [
    {
     "data": {
      "text/plain": [
       "'clearly top land belong . EOS'"
      ]
     },
     "execution_count": 93,
     "metadata": {},
     "output_type": "execute_result"
    }
   ],
   "source": [
    "def translate(input):\n",
    "    with torch.no_grad():\n",
    "        input = normalizeString(input)\n",
    "        input_tensor = sentenceToTensor(input_lang, input)\n",
    "\n",
    "        hidden = encoder.initHidden() \n",
    "\n",
    "        for word in input_tensor: \n",
    "            output, hidden = encoder(word, hidden) \n",
    "        \n",
    "        output_tensors = [] \n",
    "        prev_word = torch.tensor([SOS_TOKEN]) \n",
    "        for i in range(10): \n",
    "            output, hidden = decoder(prev_word, hidden)     \n",
    "            prev_word = torch.argmax(output[0])\n",
    "            \n",
    "            output_tensors.append(output[0]) \n",
    "            if prev_word.item() == EOS_TOKEN:\n",
    "                break\n",
    "        \n",
    "        return outputToLang(output_tensors)\n",
    "\n",
    "translate(\"Он знает английский\")\n",
    "    "
   ]
  }
 ],
 "metadata": {
  "kernelspec": {
   "display_name": "Python 3.9.8 64-bit",
   "language": "python",
   "name": "python3"
  },
  "language_info": {
   "codemirror_mode": {
    "name": "ipython",
    "version": 3
   },
   "file_extension": ".py",
   "mimetype": "text/x-python",
   "name": "python",
   "nbconvert_exporter": "python",
   "pygments_lexer": "ipython3",
   "version": "3.9.8"
  },
  "orig_nbformat": 4,
  "vscode": {
   "interpreter": {
    "hash": "aee8b7b246df8f9039afb4144a1f6fd8d2ca17a180786b69acc140d282b71a49"
   }
  }
 },
 "nbformat": 4,
 "nbformat_minor": 2
}
