{
 "cells": [
  {
   "cell_type": "code",
   "execution_count": 41,
   "metadata": {},
   "outputs": [],
   "source": [
    "import torch\n",
    "import torch.nn as nn\n",
    "import torch.functional as F\n",
    "from torch import optim\n",
    "import re\n",
    "import unicodedata\n",
    "import random"
   ]
  },
  {
   "cell_type": "code",
   "execution_count": 26,
   "metadata": {},
   "outputs": [],
   "source": [
    "SOS_TOKEN = 0\n",
    "EOS_TOKEN = 1\n",
    "\n",
    "class Lang():\n",
    "    def __init__(self, name):\n",
    "        self.name = name\n",
    "        self.word2index = {}\n",
    "        self.word2count = {}\n",
    "        self.index2word = {SOS_TOKEN:'SOS', EOS_TOKEN: 'EOS'}\n",
    "        self.n_words = 2\n",
    "    \n",
    "    def addWord(self, word):\n",
    "        if word not in self.word2index:\n",
    "            self.word2index[word] = self.n_words\n",
    "            self.index2word[self.n_words] = word\n",
    "            self.word2count[word] = 1\n",
    "            self.n_words += 1\n",
    "            \n",
    "        else:\n",
    "            self.word2count[word] = 1\n",
    "\n",
    "    def addSentence(self, sentence):\n",
    "        for word in sentence.split(' '):\n",
    "            self.addWord(word)"
   ]
  },
  {
   "cell_type": "code",
   "execution_count": 27,
   "metadata": {},
   "outputs": [],
   "source": [
    "# Turn a Unicode string to plain ASCII, thanks to\n",
    "# https://stackoverflow.com/a/518232/2809427\n",
    "def unicodeToAscii(s):\n",
    "    return ''.join(\n",
    "        c for c in unicodedata.normalize('NFD', s)\n",
    "        if unicodedata.category(c) != 'Mn'\n",
    "    )\n",
    "\n",
    "# Lowercase, trim, and remove non-letter characters\n",
    "\n",
    "\n",
    "def normalizeString(s):\n",
    "    s = unicodeToAscii(s.lower().strip())\n",
    "    s = re.sub(r\"([.!?])\", r\" \\1\", s)\n",
    "    s = re.sub(r\"[^a-zA-Z.!?]+\", r\" \", s)\n",
    "    return s"
   ]
  },
  {
   "cell_type": "code",
   "execution_count": 28,
   "metadata": {},
   "outputs": [
    {
     "name": "stdout",
     "output_type": "stream",
     "text": [
      "['Go.\\tVa !\\n', 'Run!\\tCours\\u202f!\\n', 'Run!\\tCourez\\u202f!\\n', 'Wow!\\tÇa alors\\u202f!\\n', 'Fire!\\tAu feu !\\n']\n",
      "None\n"
     ]
    }
   ],
   "source": [
    "with open('data/eng-fra.txt') as f:\n",
    "    lines = f.readlines()\n",
    "    print(lines[:5])\n",
    "    print(re.match('\\n',lines[0]))\n"
   ]
  },
  {
   "cell_type": "code",
   "execution_count": 39,
   "metadata": {},
   "outputs": [],
   "source": [
    "class Encoder(nn.Module):\n",
    "    def __init__(self, input_size, hidden_size):\n",
    "        super(Encoder, self).__init__()\n",
    "        self.hidden_size = hidden_size\n",
    "        self.embedding = nn.Embedding(input_size, hidden_size)\n",
    "        self.rnn = nn.GRU(input_size,hidden_size)\n",
    "\n",
    "    def forward(self, input, hidden):\n",
    "        embed = self.embedding(input)\n",
    "        # let's log it first to see the shape\n",
    "        # need to unroll it with view(1,1,-1)\n",
    "        out, hidden = self.rnn(embed, hidden)\n",
    "\n",
    "        return (out, hidden)\n",
    "    \n",
    "    def initHidden(self):\n",
    "        return torch.zeros(1, 1, self.hidden_size)\n",
    "\n",
    "class Decoder(nn.Module):\n",
    "    def __init__(self, input_size, hidden_size):\n",
    "        super(Decoder, self).__init__()\n",
    "        self.embedding = nn.Embedding(input_size, hidden_size)\n",
    "        self.rnn = nn.GRU(input_size,hidden_size)\n",
    "\n",
    "        self.softmax = nn.Softmax()\n",
    "\n",
    "    def forward(self, input, hidden):\n",
    "        embed = self.embedding(input)\n",
    "        # let's log it first to see the shape\n",
    "        # need to unroll it with view()\n",
    "\n",
    "        out = F.relu(embed)\n",
    "        out, hidden = self.rnn(out, hidden)\n",
    "\n",
    "        out = self.softmax(out, dim=1)\n",
    "\n",
    "        return (out, hidden)\n",
    "    \n",
    "    def initHidden(self):\n",
    "        return torch.zeros(1, 1, self.hidden_size)"
   ]
  },
  {
   "cell_type": "code",
   "execution_count": 30,
   "metadata": {},
   "outputs": [],
   "source": [
    "def readLangs(lang1, lang2, reverse=False):\n",
    "    print(\"Reading lines...\")\n",
    "\n",
    "    # Read the file and split into lines\n",
    "    lines = open('data/%s-%s.txt' % (lang1, lang2), encoding='utf-8').\\\n",
    "        read().strip().split('\\n')\n",
    "\n",
    "    # Split every line into pairs and normalize\n",
    "    pairs = [[normalizeString(s) for s in l.split('\\t')] for l in lines]\n",
    "\n",
    "    # Reverse pairs, make Lang instances\n",
    "    if reverse:\n",
    "        pairs = [list(reversed(p)) for p in pairs]\n",
    "        input_lang = Lang(lang2)\n",
    "        output_lang = Lang(lang1)\n",
    "    else:\n",
    "        input_lang = Lang(lang1)\n",
    "        output_lang = Lang(lang2)\n",
    "\n",
    "    return input_lang, output_lang, pairs\n",
    "\n",
    "MAX_LENGTH = 10\n",
    "\n",
    "eng_prefixes = (\n",
    "    \"i am \", \"i m \",\n",
    "    \"he is\", \"he s \",\n",
    "    \"she is\", \"she s \",\n",
    "    \"you are\", \"you re \",\n",
    "    \"we are\", \"we re \",\n",
    "    \"they are\", \"they re \"\n",
    ")\n",
    "\n",
    "\n",
    "def filterPair(p):\n",
    "    return len(p[0].split(' ')) < MAX_LENGTH and \\\n",
    "        len(p[1].split(' ')) < MAX_LENGTH and \\\n",
    "        p[1].startswith(eng_prefixes)\n",
    "\n",
    "\n",
    "def filterPairs(pairs):\n",
    "    return [pair for pair in pairs if filterPair(pair)]"
   ]
  },
  {
   "cell_type": "code",
   "execution_count": 31,
   "metadata": {},
   "outputs": [
    {
     "name": "stdout",
     "output_type": "stream",
     "text": [
      "Reading lines...\n",
      "Read 135842 sentence pairs\n",
      "Trimmed to 10599 sentence pairs\n",
      "Counting words...\n",
      "Counted words:\n",
      "fra 4345\n",
      "eng 2803\n",
      "['je n en suis pas si convaincu .', 'i m not so convinced .']\n",
      "['vous avez de gros problemes .', 'you re in big trouble .']\n"
     ]
    }
   ],
   "source": [
    "def prepareData(lang1, lang2, reverse=False):\n",
    "    input_lang, output_lang, pairs = readLangs(lang1, lang2, reverse)\n",
    "    print(\"Read %s sentence pairs\" % len(pairs))\n",
    "    pairs = filterPairs(pairs)\n",
    "    print(\"Trimmed to %s sentence pairs\" % len(pairs))\n",
    "    print(\"Counting words...\")\n",
    "    for pair in pairs:\n",
    "        input_lang.addSentence(pair[0])\n",
    "        output_lang.addSentence(pair[1])\n",
    "    print(\"Counted words:\")\n",
    "    print(input_lang.name, input_lang.n_words)\n",
    "    print(output_lang.name, output_lang.n_words)\n",
    "    return input_lang, output_lang, pairs\n",
    "\n",
    "\n",
    "input_lang, output_lang, pairs = prepareData('eng', 'fra', True)\n",
    "print(random.choice(pairs))\n",
    "print(random.choice(pairs))"
   ]
  },
  {
   "cell_type": "code",
   "execution_count": 46,
   "metadata": {},
   "outputs": [
    {
     "name": "stdout",
     "output_type": "stream",
     "text": [
      "(tensor([[   6],\n",
      "        [  11],\n",
      "        [  89],\n",
      "        [ 115],\n",
      "        [ 248],\n",
      "        [2701],\n",
      "        [   5],\n",
      "        [   1]]), tensor([[   2],\n",
      "        [   3],\n",
      "        [ 158],\n",
      "        [ 294],\n",
      "        [1597],\n",
      "        [ 238],\n",
      "        [   4],\n",
      "        [   1]]), 'je suis maintenant a l aeroport .', 'i m at the airport now .')\n",
      "(tensor([[118],\n",
      "        [214],\n",
      "        [152],\n",
      "        [213],\n",
      "        [902],\n",
      "        [ 42],\n",
      "        [  5],\n",
      "        [  1]]), tensor([[ 129],\n",
      "        [ 124],\n",
      "        [ 150],\n",
      "        [1166],\n",
      "        [ 343],\n",
      "        [   4],\n",
      "        [   1]]), 'vous etes plus grand que moi .', 'you are taller than me .')\n"
     ]
    }
   ],
   "source": [
    "# ideally we hot encode the dataset, so we don't do it at the time of the training loop\n",
    "dataset = []\n",
    "\n",
    "def sentenceToIndexes(lang, sentence):\n",
    "    return [lang.word2index[word] for word in sentence.split(' ')]\n",
    "\n",
    "def sentenceToTensor(lang, sentence):\n",
    "    ind = sentenceToIndexes(lang, sentence)\n",
    "    ind.append(EOS_TOKEN)\n",
    "\n",
    "    return torch.tensor(ind,dtype=torch.long).view(-1, 1)\n",
    "\n",
    "for pair in pairs:\n",
    "    dataset.append((\n",
    "        sentenceToTensor(input_lang,pair[0]),\n",
    "        sentenceToTensor(output_lang,pair[1]),\n",
    "        pair[0],\n",
    "        pair[1]\n",
    "    \n",
    "    ))\n",
    "\n",
    "\n",
    "\n",
    "print(random.choice(dataset))\n",
    "print(random.choice(dataset))\n",
    "    "
   ]
  },
  {
   "cell_type": "markdown",
   "metadata": {},
   "source": [
    "# Training loop"
   ]
  },
  {
   "cell_type": "code",
   "execution_count": 47,
   "metadata": {},
   "outputs": [
    {
     "ename": "SyntaxError",
     "evalue": "invalid syntax (3239989594.py, line 23)",
     "output_type": "error",
     "traceback": [
      "\u001b[0;36m  Input \u001b[0;32mIn [47]\u001b[0;36m\u001b[0m\n\u001b[0;31m    prev_word = word print('output: ', output)\u001b[0m\n\u001b[0m                     ^\u001b[0m\n\u001b[0;31mSyntaxError\u001b[0m\u001b[0;31m:\u001b[0m invalid syntax\n"
     ]
    }
   ],
   "source": [
    "criterion = nn.NLLLoss() \n",
    "hidden_size = 128 \n",
    "learning_rate = 0.01 \n",
    "encoder = Encoder(input_lang.n_words, hidden_size) \n",
    "decoder = Decoder(output_lang.n_words, hidden_size) \n",
    "encoder_optimizer = optim.SGD(encoder.parameters(), lr=learning_rate) \n",
    "decoder_optimizer = optim.SGD(decoder.parameters(), lr=learning_rate) \n",
    "\n",
    "def trainSentence(input_tensor, target_tensor, encoder, decoder, encoder_optimizer, decoder_optimizer): \n",
    "    encoder_optimizer.zero_grad() \n",
    "    decoder_optimizer.zero_grad() \n",
    "    hidden = encoder.initHidden() \n",
    "    for word in input_tensor: \n",
    "        print('enc word: ', word) \n",
    "        print('enc hidden: ', hidden) \n",
    "        output, hidden = encoder(word, hidden) \n",
    "    \n",
    "    output_tensors = [] # Teacher forcing by default, let's do couple of runs and then do non teacher forced \n",
    "    prev_word = [SOS_TOKEN] \n",
    "    for word in target_tensor: \n",
    "        output, hidden = decoder(prev_word, hidden) \n",
    "        output_tensors.append(output) \n",
    "        prev_word = word \n",
    "        print('output: ', output) \n",
    "        print('word: ', word) # for each word compute loss ? or just do it in the end # compare word with output \n",
    "\n",
    "trainSentence(dataset[0][0], dataset[0][1], encoder, decoder, encoder_optimizer, decoder_optimizer)"
   ]
  }
 ],
 "metadata": {
  "kernelspec": {
   "display_name": "Python 3.9.8 64-bit",
   "language": "python",
   "name": "python3"
  },
  "language_info": {
   "codemirror_mode": {
    "name": "ipython",
    "version": 3
   },
   "file_extension": ".py",
   "mimetype": "text/x-python",
   "name": "python",
   "nbconvert_exporter": "python",
   "pygments_lexer": "ipython3",
   "version": "3.9.8"
  },
  "orig_nbformat": 4,
  "vscode": {
   "interpreter": {
    "hash": "aee8b7b246df8f9039afb4144a1f6fd8d2ca17a180786b69acc140d282b71a49"
   }
  }
 },
 "nbformat": 4,
 "nbformat_minor": 2
}
