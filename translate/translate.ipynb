{
 "cells": [
  {
   "cell_type": "code",
   "execution_count": 1,
   "metadata": {},
   "outputs": [
    {
     "name": "stderr",
     "output_type": "stream",
     "text": [
      "/usr/local/lib/python3.9/site-packages/tqdm/auto.py:22: TqdmWarning: IProgress not found. Please update jupyter and ipywidgets. See https://ipywidgets.readthedocs.io/en/stable/user_install.html\n",
      "  from .autonotebook import tqdm as notebook_tqdm\n"
     ]
    }
   ],
   "source": [
    "import torch\n",
    "import torch.nn as nn\n",
    "import torch.nn.functional as F\n",
    "from torch import optim\n",
    "import re\n",
    "import unicodedata\n",
    "import random"
   ]
  },
  {
   "cell_type": "code",
   "execution_count": 2,
   "metadata": {},
   "outputs": [],
   "source": [
    "SOS_TOKEN = 0\n",
    "EOS_TOKEN = 1\n",
    "\n",
    "class Lang():\n",
    "    def __init__(self, name):\n",
    "        self.name = name\n",
    "        self.word2index = {}\n",
    "        self.word2count = {}\n",
    "        self.index2word = {SOS_TOKEN:'SOS', EOS_TOKEN: 'EOS'}\n",
    "        self.n_words = 2\n",
    "    \n",
    "    def addWord(self, word):\n",
    "        if word not in self.word2index:\n",
    "            self.word2index[word] = self.n_words\n",
    "            self.index2word[self.n_words] = word\n",
    "            self.word2count[word] = 1\n",
    "            self.n_words += 1\n",
    "            \n",
    "        else:\n",
    "            self.word2count[word] = 1\n",
    "\n",
    "    def addSentence(self, sentence):\n",
    "        for word in sentence.split(' '):\n",
    "            self.addWord(word)"
   ]
  },
  {
   "cell_type": "code",
   "execution_count": 3,
   "metadata": {},
   "outputs": [],
   "source": [
    "# Turn a Unicode string to plain ASCII, thanks to\n",
    "# https://stackoverflow.com/a/518232/2809427\n",
    "def unicodeToAscii(s):\n",
    "    return ''.join(\n",
    "        c for c in unicodedata.normalize('NFD', s)\n",
    "        if unicodedata.category(c) != 'Mn'\n",
    "    )\n",
    "\n",
    "# Lowercase, trim, and remove non-letter characters\n",
    "\n",
    "\n",
    "def normalizeString(s):\n",
    "    s = unicodeToAscii(s.lower().strip())\n",
    "    s = re.sub(r\"([.!?])\", r\" \\1\", s)\n",
    "    s = re.sub(r\"[^a-zA-Z.!?]+\", r\" \", s)\n",
    "    return s"
   ]
  },
  {
   "cell_type": "code",
   "execution_count": 195,
   "metadata": {},
   "outputs": [
    {
     "name": "stdout",
     "output_type": "stream",
     "text": [
      "['Go.\\tVa !\\n', 'Run!\\tCours\\u202f!\\n', 'Run!\\tCourez\\u202f!\\n', 'Wow!\\tÇa alors\\u202f!\\n', 'Fire!\\tAu feu !\\n']\n",
      "None\n"
     ]
    }
   ],
   "source": [
    "with open('data/eng-fra.txt') as f:\n",
    "    lines = f.readlines()\n",
    "    print(lines[:5])\n",
    "    print(re.match('\\n',lines[0]))\n"
   ]
  },
  {
   "cell_type": "code",
   "execution_count": 198,
   "metadata": {},
   "outputs": [],
   "source": [
    "class Encoder(nn.Module):\n",
    "    def __init__(self, input_size, hidden_size):\n",
    "        super(Encoder, self).__init__()\n",
    "        self.hidden_size = hidden_size\n",
    "        self.embedding = nn.Embedding(input_size, hidden_size)\n",
    "        self.rnn = nn.GRU(hidden_size,hidden_size)\n",
    "\n",
    "    def forward(self, input, hidden):\n",
    "        embed = self.embedding(input).view(1,1,-1)\n",
    "        # let's log it first to see the shape\n",
    "        # need to unroll it with \n",
    "        out, hidden = self.rnn(embed, hidden)\n",
    "\n",
    "        return (out, hidden)\n",
    "    \n",
    "    def initHidden(self):\n",
    "        return torch.zeros(1, 1, self.hidden_size)\n",
    "\n",
    "class Decoder(nn.Module):\n",
    "    def __init__(self, input_size, hidden_size,):\n",
    "        super(Decoder, self).__init__()\n",
    "        self.hidden_size = hidden_size\n",
    "\n",
    "        self.embedding = nn.Embedding(input_size, hidden_size)\n",
    "        self.rnn = nn.GRU(hidden_size, hidden_size)\n",
    "        self.out = nn.Linear(hidden_size, input_size)\n",
    "        self.softmax = nn.LogSoftmax(dim=2)\n",
    "\n",
    "    def forward(self, input, hidden):\n",
    "        embed = self.embedding(input).view(1,1,-1)\n",
    "        out = F.relu(embed)\n",
    "        out, hidden = self.rnn(out, hidden)\n",
    "        out = self.out(out)\n",
    "\n",
    "        out = self.softmax(out)\n",
    "\n",
    "        return (out, hidden)\n",
    "    \n",
    "    def initHidden(self):\n",
    "        return torch.zeros(1, 1, self.hidden_size)"
   ]
  },
  {
   "cell_type": "code",
   "execution_count": 6,
   "metadata": {},
   "outputs": [],
   "source": [
    "def readLangs(lang1, lang2, reverse=False):\n",
    "    print(\"Reading lines...\")\n",
    "\n",
    "    # Read the file and split into lines\n",
    "    lines = open('data/%s-%s.txt' % (lang1, lang2), encoding='utf-8').\\\n",
    "        read().strip().split('\\n')\n",
    "\n",
    "    # Split every line into pairs and normalize\n",
    "    pairs = [[normalizeString(s) for s in l.split('\\t')] for l in lines]\n",
    "\n",
    "    # Reverse pairs, make Lang instances\n",
    "    if reverse:\n",
    "        pairs = [list(reversed(p)) for p in pairs]\n",
    "        input_lang = Lang(lang2)\n",
    "        output_lang = Lang(lang1)\n",
    "    else:\n",
    "        input_lang = Lang(lang1)\n",
    "        output_lang = Lang(lang2)\n",
    "\n",
    "    return input_lang, output_lang, pairs\n",
    "\n",
    "MAX_LENGTH = 10\n",
    "\n",
    "eng_prefixes = (\n",
    "    \"i am \", \"i m \",\n",
    "    \"he is\", \"he s \",\n",
    "    \"she is\", \"she s \",\n",
    "    \"you are\", \"you re \",\n",
    "    \"we are\", \"we re \",\n",
    "    \"they are\", \"they re \"\n",
    ")\n",
    "\n",
    "\n",
    "def filterPair(p):\n",
    "    return len(p[0].split(' ')) < MAX_LENGTH and \\\n",
    "        len(p[1].split(' ')) < MAX_LENGTH and \\\n",
    "        p[1].startswith(eng_prefixes)\n",
    "\n",
    "\n",
    "def filterPairs(pairs):\n",
    "    return [pair for pair in pairs if filterPair(pair)]"
   ]
  },
  {
   "cell_type": "code",
   "execution_count": 7,
   "metadata": {},
   "outputs": [
    {
     "name": "stdout",
     "output_type": "stream",
     "text": [
      "Reading lines...\n",
      "Read 135842 sentence pairs\n",
      "Trimmed to 10599 sentence pairs\n",
      "Counting words...\n",
      "Counted words:\n",
      "fra 4345\n",
      "eng 2803\n",
      "['tu es plus grand que moi .', 'you re taller than i am .']\n",
      "['tu es en danger .', 'you re in danger .']\n"
     ]
    }
   ],
   "source": [
    "def prepareData(lang1, lang2, reverse=False):\n",
    "    input_lang, output_lang, pairs = readLangs(lang1, lang2, reverse)\n",
    "    print(\"Read %s sentence pairs\" % len(pairs))\n",
    "    pairs = filterPairs(pairs)\n",
    "    print(\"Trimmed to %s sentence pairs\" % len(pairs))\n",
    "    print(\"Counting words...\")\n",
    "    for pair in pairs:\n",
    "        input_lang.addSentence(pair[0])\n",
    "        output_lang.addSentence(pair[1])\n",
    "    print(\"Counted words:\")\n",
    "    print(input_lang.name, input_lang.n_words)\n",
    "    print(output_lang.name, output_lang.n_words)\n",
    "    return input_lang, output_lang, pairs\n",
    "\n",
    "\n",
    "input_lang, output_lang, pairs = prepareData('eng', 'fra', True)\n",
    "print(random.choice(pairs))\n",
    "print(random.choice(pairs))"
   ]
  },
  {
   "cell_type": "code",
   "execution_count": 26,
   "metadata": {},
   "outputs": [
    {
     "name": "stdout",
     "output_type": "stream",
     "text": [
      "(tensor([[   6],\n",
      "        [  11],\n",
      "        [ 109],\n",
      "        [ 417],\n",
      "        [   6],\n",
      "        [ 118],\n",
      "        [   3],\n",
      "        [3818],\n",
      "        [   5],\n",
      "        [   1]]), tensor([[   2],\n",
      "        [   3],\n",
      "        [  69],\n",
      "        [1372],\n",
      "        [   2],\n",
      "        [ 618],\n",
      "        [ 129],\n",
      "        [   4],\n",
      "        [   1]]), 'je suis desole si je vous ai embarrassees .', 'i m sorry if i embarrassed you .')\n",
      "(tensor([[528],\n",
      "        [349],\n",
      "        [194],\n",
      "        [529],\n",
      "        [  5],\n",
      "        [  1]]), tensor([[221],\n",
      "        [ 78],\n",
      "        [307],\n",
      "        [  4],\n",
      "        [  1]]), 'ce sont des garcons .', 'they re boys .')\n"
     ]
    }
   ],
   "source": [
    "# ideally we hot encode the dataset, so we don't do it at the time of the training loop\n",
    "dataset = []\n",
    "\n",
    "def sentenceToIndexes(lang, sentence):\n",
    "    return [lang.word2index[word] for word in sentence.split(' ')]\n",
    "\n",
    "def sentenceToTensor(lang, sentence):\n",
    "    ind = sentenceToIndexes(lang, sentence)\n",
    "    ind.append(EOS_TOKEN)\n",
    "\n",
    "    return torch.tensor(ind,dtype=torch.long).view(-1, 1)\n",
    "\n",
    "for pair in pairs:\n",
    "    dataset.append((\n",
    "        sentenceToTensor(input_lang,pair[0]),\n",
    "        sentenceToTensor(output_lang,pair[1]),\n",
    "        pair[0],\n",
    "        pair[1]\n",
    "    \n",
    "    ))\n",
    "\n",
    "\n",
    "\n",
    "print(random.choice(dataset))\n",
    "print(random.choice(dataset))\n",
    "    "
   ]
  },
  {
   "cell_type": "markdown",
   "metadata": {},
   "source": [
    "# Training loop"
   ]
  },
  {
   "cell_type": "code",
   "execution_count": 13,
   "metadata": {},
   "outputs": [
    {
     "data": {
      "text/plain": [
       "4345"
      ]
     },
     "execution_count": 13,
     "metadata": {},
     "output_type": "execute_result"
    }
   ],
   "source": [
    "input_lang.n_words\n"
   ]
  },
  {
   "cell_type": "code",
   "execution_count": 14,
   "metadata": {},
   "outputs": [
    {
     "data": {
      "text/plain": [
       "2803"
      ]
     },
     "execution_count": 14,
     "metadata": {},
     "output_type": "execute_result"
    }
   ],
   "source": [
    "output_lang.n_words"
   ]
  },
  {
   "cell_type": "code",
   "execution_count": 114,
   "metadata": {},
   "outputs": [],
   "source": [
    "def outputToLang(output):\n",
    "    to_lang = []\n",
    "    for b in output:\n",
    "        a = torch.argmax(b)\n",
    "        to_lang.append(output_lang.index2word[a.item()])\n",
    "    \n",
    "    return ' '.join(to_lang)"
   ]
  },
  {
   "cell_type": "code",
   "execution_count": 199,
   "metadata": {},
   "outputs": [],
   "source": [
    "TEACHER_PERCENT = 0.5\n",
    "criterion = nn.NLLLoss() \n",
    "\n",
    "def trainSentence(input_tensor, target_tensor, encoder, decoder, encoder_optimizer, decoder_optimizer): \n",
    "    encoder_optimizer.zero_grad() \n",
    "    decoder_optimizer.zero_grad() \n",
    "    \n",
    "    hidden = encoder.initHidden() \n",
    "    loss = 0.0\n",
    "\n",
    "    for word in input_tensor: \n",
    "        # print('enc word: ', word) \n",
    "        output, hidden = encoder(word, hidden) \n",
    "        # print('enc hidden: ', hidden) \n",
    "        # print('enc output: ', output) \n",
    "    \n",
    "    # print('=============== DONE WITH ENCODING')\n",
    "    output_tensors = [] # Teacher forcing by default, let's do couple of runs and then do non teacher forced \n",
    "    prev_word = torch.tensor([SOS_TOKEN]) \n",
    "    for word in target_tensor: \n",
    "        output, hidden = decoder(prev_word, hidden) \n",
    "        \n",
    "        if random.random() < TEACHER_PERCENT:\n",
    "            prev_word = word \n",
    "        else:\n",
    "            # use your own prediction\n",
    "            prev_word = torch.argmax(output[0])\n",
    "        \n",
    "        loss += criterion(output[0], word)\n",
    "        output_tensors.append(output[0]) \n",
    "        # print('max',torch.max(output[0]))\n",
    "\n",
    "    # print('loss:', loss) \n",
    "    normalized_loss = loss.item() / (target_tensor.size(0) + 0.0)\n",
    "\n",
    "    loss.backward()\n",
    "    encoder_optimizer.step()\n",
    "    decoder_optimizer.step()\n",
    "\n",
    "    return (output_tensors, normalized_loss)"
   ]
  },
  {
   "cell_type": "code",
   "execution_count": 200,
   "metadata": {},
   "outputs": [],
   "source": [
    "# instantiate the network\n",
    "hidden_size = 254\n",
    "learning_rate = 0.003\n",
    "encoder = Encoder(input_lang.n_words, hidden_size) \n",
    "decoder = Decoder(output_lang.n_words, hidden_size) \n",
    "encoder_optimizer = optim.Adam(encoder.parameters(), lr=learning_rate) \n",
    "decoder_optimizer = optim.Adam(decoder.parameters(), lr=learning_rate) \n",
    "sample_ouputs = []\n",
    "\n",
    "all_losses = []\n",
    "plot_every = 100"
   ]
  },
  {
   "cell_type": "code",
   "execution_count": 201,
   "metadata": {},
   "outputs": [
    {
     "ename": "IndexError",
     "evalue": "index 1 is out of bounds for dimension 0 with size 1",
     "output_type": "error",
     "traceback": [
      "\u001b[0;31m---------------------------------------------------------------------------\u001b[0m",
      "\u001b[0;31mIndexError\u001b[0m                                Traceback (most recent call last)",
      "\u001b[1;32m/Users/roman/workspace/dl-experiments/translate/translate.ipynb Cell 15\u001b[0m in \u001b[0;36m<cell line: 7>\u001b[0;34m()\u001b[0m\n\u001b[1;32m      <a href='vscode-notebook-cell:/Users/roman/workspace/dl-experiments/translate/translate.ipynb#X23sZmlsZQ%3D%3D?line=8'>9</a>\u001b[0m index \u001b[39m+\u001b[39m\u001b[39m=\u001b[39m \u001b[39m1\u001b[39m\n\u001b[1;32m     <a href='vscode-notebook-cell:/Users/roman/workspace/dl-experiments/translate/translate.ipynb#X23sZmlsZQ%3D%3D?line=9'>10</a>\u001b[0m datum \u001b[39m=\u001b[39m random\u001b[39m.\u001b[39mchoice(dataset)\n\u001b[0;32m---> <a href='vscode-notebook-cell:/Users/roman/workspace/dl-experiments/translate/translate.ipynb#X23sZmlsZQ%3D%3D?line=10'>11</a>\u001b[0m output, normalized_loss \u001b[39m=\u001b[39m trainSentence(datum[\u001b[39m0\u001b[39;49m], datum[\u001b[39m1\u001b[39;49m], encoder, decoder, encoder_optimizer, decoder_optimizer)\n\u001b[1;32m     <a href='vscode-notebook-cell:/Users/roman/workspace/dl-experiments/translate/translate.ipynb#X23sZmlsZQ%3D%3D?line=11'>12</a>\u001b[0m total_loss \u001b[39m+\u001b[39m\u001b[39m=\u001b[39m normalized_loss\n\u001b[1;32m     <a href='vscode-notebook-cell:/Users/roman/workspace/dl-experiments/translate/translate.ipynb#X23sZmlsZQ%3D%3D?line=13'>14</a>\u001b[0m sample_ouputs\u001b[39m.\u001b[39mappend((datum[\u001b[39m2\u001b[39m],outputToLang(output)))\n",
      "\u001b[1;32m/Users/roman/workspace/dl-experiments/translate/translate.ipynb Cell 15\u001b[0m in \u001b[0;36mtrainSentence\u001b[0;34m(input_tensor, target_tensor, encoder, decoder, encoder_optimizer, decoder_optimizer)\u001b[0m\n\u001b[1;32m      <a href='vscode-notebook-cell:/Users/roman/workspace/dl-experiments/translate/translate.ipynb#X23sZmlsZQ%3D%3D?line=8'>9</a>\u001b[0m loss \u001b[39m=\u001b[39m \u001b[39m0.0\u001b[39m\n\u001b[1;32m     <a href='vscode-notebook-cell:/Users/roman/workspace/dl-experiments/translate/translate.ipynb#X23sZmlsZQ%3D%3D?line=10'>11</a>\u001b[0m \u001b[39mfor\u001b[39;00m word \u001b[39min\u001b[39;00m input_tensor: \n\u001b[1;32m     <a href='vscode-notebook-cell:/Users/roman/workspace/dl-experiments/translate/translate.ipynb#X23sZmlsZQ%3D%3D?line=11'>12</a>\u001b[0m     \u001b[39m# print('enc word: ', word) \u001b[39;00m\n\u001b[0;32m---> <a href='vscode-notebook-cell:/Users/roman/workspace/dl-experiments/translate/translate.ipynb#X23sZmlsZQ%3D%3D?line=12'>13</a>\u001b[0m     output, hidden \u001b[39m=\u001b[39m encoder(word, hidden) \n\u001b[1;32m     <a href='vscode-notebook-cell:/Users/roman/workspace/dl-experiments/translate/translate.ipynb#X23sZmlsZQ%3D%3D?line=13'>14</a>\u001b[0m     \u001b[39m# print('enc hidden: ', hidden) \u001b[39;00m\n\u001b[1;32m     <a href='vscode-notebook-cell:/Users/roman/workspace/dl-experiments/translate/translate.ipynb#X23sZmlsZQ%3D%3D?line=14'>15</a>\u001b[0m     \u001b[39m# print('enc output: ', output) \u001b[39;00m\n\u001b[1;32m     <a href='vscode-notebook-cell:/Users/roman/workspace/dl-experiments/translate/translate.ipynb#X23sZmlsZQ%3D%3D?line=15'>16</a>\u001b[0m \n\u001b[1;32m     <a href='vscode-notebook-cell:/Users/roman/workspace/dl-experiments/translate/translate.ipynb#X23sZmlsZQ%3D%3D?line=16'>17</a>\u001b[0m \u001b[39m# print('=============== DONE WITH ENCODING')\u001b[39;00m\n\u001b[1;32m     <a href='vscode-notebook-cell:/Users/roman/workspace/dl-experiments/translate/translate.ipynb#X23sZmlsZQ%3D%3D?line=17'>18</a>\u001b[0m output_tensors \u001b[39m=\u001b[39m [] \u001b[39m# Teacher forcing by default, let's do couple of runs and then do non teacher forced \u001b[39;00m\n",
      "File \u001b[0;32m/usr/local/lib/python3.9/site-packages/torch/nn/modules/module.py:1130\u001b[0m, in \u001b[0;36mModule._call_impl\u001b[0;34m(self, *input, **kwargs)\u001b[0m\n\u001b[1;32m   1126\u001b[0m \u001b[39m# If we don't have any hooks, we want to skip the rest of the logic in\u001b[39;00m\n\u001b[1;32m   1127\u001b[0m \u001b[39m# this function, and just call forward.\u001b[39;00m\n\u001b[1;32m   1128\u001b[0m \u001b[39mif\u001b[39;00m \u001b[39mnot\u001b[39;00m (\u001b[39mself\u001b[39m\u001b[39m.\u001b[39m_backward_hooks \u001b[39mor\u001b[39;00m \u001b[39mself\u001b[39m\u001b[39m.\u001b[39m_forward_hooks \u001b[39mor\u001b[39;00m \u001b[39mself\u001b[39m\u001b[39m.\u001b[39m_forward_pre_hooks \u001b[39mor\u001b[39;00m _global_backward_hooks\n\u001b[1;32m   1129\u001b[0m         \u001b[39mor\u001b[39;00m _global_forward_hooks \u001b[39mor\u001b[39;00m _global_forward_pre_hooks):\n\u001b[0;32m-> 1130\u001b[0m     \u001b[39mreturn\u001b[39;00m forward_call(\u001b[39m*\u001b[39;49m\u001b[39minput\u001b[39;49m, \u001b[39m*\u001b[39;49m\u001b[39m*\u001b[39;49mkwargs)\n\u001b[1;32m   1131\u001b[0m \u001b[39m# Do not call functions when jit is used\u001b[39;00m\n\u001b[1;32m   1132\u001b[0m full_backward_hooks, non_full_backward_hooks \u001b[39m=\u001b[39m [], []\n",
      "\u001b[1;32m/Users/roman/workspace/dl-experiments/translate/translate.ipynb Cell 15\u001b[0m in \u001b[0;36mEncoder.forward\u001b[0;34m(self, input, hidden)\u001b[0m\n\u001b[1;32m      <a href='vscode-notebook-cell:/Users/roman/workspace/dl-experiments/translate/translate.ipynb#X23sZmlsZQ%3D%3D?line=8'>9</a>\u001b[0m embed \u001b[39m=\u001b[39m \u001b[39mself\u001b[39m\u001b[39m.\u001b[39membedding(\u001b[39minput\u001b[39m)\u001b[39m.\u001b[39mview(\u001b[39m1\u001b[39m,\u001b[39m1\u001b[39m,\u001b[39m-\u001b[39m\u001b[39m1\u001b[39m)\n\u001b[1;32m     <a href='vscode-notebook-cell:/Users/roman/workspace/dl-experiments/translate/translate.ipynb#X23sZmlsZQ%3D%3D?line=9'>10</a>\u001b[0m \u001b[39m# let's log it first to see the shape\u001b[39;00m\n\u001b[1;32m     <a href='vscode-notebook-cell:/Users/roman/workspace/dl-experiments/translate/translate.ipynb#X23sZmlsZQ%3D%3D?line=10'>11</a>\u001b[0m \u001b[39m# need to unroll it with \u001b[39;00m\n\u001b[0;32m---> <a href='vscode-notebook-cell:/Users/roman/workspace/dl-experiments/translate/translate.ipynb#X23sZmlsZQ%3D%3D?line=11'>12</a>\u001b[0m out, hidden \u001b[39m=\u001b[39m \u001b[39mself\u001b[39;49m\u001b[39m.\u001b[39;49mrnn(embed, hidden)\n\u001b[1;32m     <a href='vscode-notebook-cell:/Users/roman/workspace/dl-experiments/translate/translate.ipynb#X23sZmlsZQ%3D%3D?line=13'>14</a>\u001b[0m \u001b[39mreturn\u001b[39;00m (out, hidden)\n",
      "File \u001b[0;32m/usr/local/lib/python3.9/site-packages/torch/nn/modules/module.py:1130\u001b[0m, in \u001b[0;36mModule._call_impl\u001b[0;34m(self, *input, **kwargs)\u001b[0m\n\u001b[1;32m   1126\u001b[0m \u001b[39m# If we don't have any hooks, we want to skip the rest of the logic in\u001b[39;00m\n\u001b[1;32m   1127\u001b[0m \u001b[39m# this function, and just call forward.\u001b[39;00m\n\u001b[1;32m   1128\u001b[0m \u001b[39mif\u001b[39;00m \u001b[39mnot\u001b[39;00m (\u001b[39mself\u001b[39m\u001b[39m.\u001b[39m_backward_hooks \u001b[39mor\u001b[39;00m \u001b[39mself\u001b[39m\u001b[39m.\u001b[39m_forward_hooks \u001b[39mor\u001b[39;00m \u001b[39mself\u001b[39m\u001b[39m.\u001b[39m_forward_pre_hooks \u001b[39mor\u001b[39;00m _global_backward_hooks\n\u001b[1;32m   1129\u001b[0m         \u001b[39mor\u001b[39;00m _global_forward_hooks \u001b[39mor\u001b[39;00m _global_forward_pre_hooks):\n\u001b[0;32m-> 1130\u001b[0m     \u001b[39mreturn\u001b[39;00m forward_call(\u001b[39m*\u001b[39;49m\u001b[39minput\u001b[39;49m, \u001b[39m*\u001b[39;49m\u001b[39m*\u001b[39;49mkwargs)\n\u001b[1;32m   1131\u001b[0m \u001b[39m# Do not call functions when jit is used\u001b[39;00m\n\u001b[1;32m   1132\u001b[0m full_backward_hooks, non_full_backward_hooks \u001b[39m=\u001b[39m [], []\n",
      "File \u001b[0;32m/usr/local/lib/python3.9/site-packages/torch/nn/modules/rnn.py:754\u001b[0m, in \u001b[0;36mLSTM.forward\u001b[0;34m(self, input, hx)\u001b[0m\n\u001b[1;32m    751\u001b[0m \u001b[39mif\u001b[39;00m is_batched:\n\u001b[1;32m    752\u001b[0m     \u001b[39mif\u001b[39;00m (hx[\u001b[39m0\u001b[39m]\u001b[39m.\u001b[39mdim() \u001b[39m!=\u001b[39m \u001b[39m3\u001b[39m \u001b[39mor\u001b[39;00m hx[\u001b[39m1\u001b[39m]\u001b[39m.\u001b[39mdim() \u001b[39m!=\u001b[39m \u001b[39m3\u001b[39m):\n\u001b[1;32m    753\u001b[0m         msg \u001b[39m=\u001b[39m (\u001b[39m\"\u001b[39m\u001b[39mFor batched 3-D input, hx and cx should \u001b[39m\u001b[39m\"\u001b[39m\n\u001b[0;32m--> 754\u001b[0m                \u001b[39mf\u001b[39m\u001b[39m\"\u001b[39m\u001b[39malso be 3-D but got (\u001b[39m\u001b[39m{\u001b[39;00mhx[\u001b[39m0\u001b[39m]\u001b[39m.\u001b[39mdim()\u001b[39m}\u001b[39;00m\u001b[39m-D, \u001b[39m\u001b[39m{\u001b[39;00mhx[\u001b[39m1\u001b[39m]\u001b[39m.\u001b[39mdim()\u001b[39m}\u001b[39;00m\u001b[39m-D) tensors\u001b[39m\u001b[39m\"\u001b[39m)\n\u001b[1;32m    755\u001b[0m         \u001b[39mraise\u001b[39;00m \u001b[39mRuntimeError\u001b[39;00m(msg)\n\u001b[1;32m    756\u001b[0m \u001b[39melse\u001b[39;00m:\n",
      "\u001b[0;31mIndexError\u001b[0m: index 1 is out of bounds for dimension 0 with size 1"
     ]
    }
   ],
   "source": [
    "# main loop\n",
    "total_loss = 0.0\n",
    "learning_rate = 0.003\n",
    "index = 0\n",
    "iters = 3000\n",
    "\n",
    "for epoch in range(1):\n",
    "    for i in range(0 ,iters):\n",
    "        index += 1\n",
    "        datum = random.choice(dataset)\n",
    "        output, normalized_loss = trainSentence(datum[0], datum[1], encoder, decoder, encoder_optimizer, decoder_optimizer)\n",
    "        total_loss += normalized_loss\n",
    "\n",
    "        sample_ouputs.append((datum[2],outputToLang(output)))\n",
    "        \n",
    "        if index % plot_every == 0:\n",
    "            all_losses.append(total_loss / (plot_every + 0.0))\n",
    "            total_loss = 0\n",
    "            print('index.. ', index, 'epoch...... ', epoch, ' loss...... ',all_losses[-1])\n",
    "            print(sample_ouputs[-20:-1])"
   ]
  },
  {
   "cell_type": "code",
   "execution_count": 176,
   "metadata": {},
   "outputs": [
    {
     "name": "stdout",
     "output_type": "stream",
     "text": [
      "je suis plutot heureuse .\n",
      "nous formons un groupe .\n",
      "elle est connue de tout le monde .\n",
      "je volerai vers la lune .\n",
      "je ne vais rien y faire .\n",
      "vous etes trop maigrichonne .\n",
      "nous ne sommes pas en train de sourire .\n",
      "je refuse de te vendre ma voiture .\n",
      "elle porte une robe verte .\n",
      "vous etes respecte de tous .\n"
     ]
    }
   ],
   "source": [
    "for i in range(10):\n",
    "    print(random.choice(dataset)[2])"
   ]
  },
  {
   "cell_type": "code",
   "execution_count": 193,
   "metadata": {},
   "outputs": [
    {
     "data": {
      "text/plain": [
       "[('c est un ancien detenu .', 'he s a of . EOS .'),\n",
       " ('je suis a votre disposition .', 'i m your by her . EOS'),\n",
       " ('tu es tres indelicate .', 'you re very lonely . EOS'),\n",
       " ('je ne suis plus en colere apres toi .', 'i m not at you . EOS . EOS'),\n",
       " ('t es une chouette gonzesse .', 'you re an good person . EOS'),\n",
       " ('j en ai assez de vos recriminations .', 'i m sick of this . EOS EOS'),\n",
       " ('je me leve tard le matin .', 'i m not early . EOS . EOS'),\n",
       " ('il a vecu ici toute sa vie .', 'he s his entire life life life life life'),\n",
       " ('nous ne sommes que des etudiants .', 'we re just students . EOS'),\n",
       " ('il rumine quelque chose .', 'he s mumbling husband husband EOS'),\n",
       " ('je suis mauvais aux echecs .', 'i m terrible . EOS . EOS'),\n",
       " ('je ne suis pas ta bonne .', 'i m not your maid maid .'),\n",
       " ('nous avons une faim de loup .', 'we re hungry hungry wolves wolves . EOS'),\n",
       " ('vous me faites marcher !', 'you re pulling leg !'),\n",
       " ('vous etes tres intelligentes .', 'you re very smart . EOS'),\n",
       " ('je suis en faveur de ta proposition .',\n",
       "  'i m your your your late . EOS EOS'),\n",
       " ('vous n etes pas habillee .', 'you re not alone . EOS'),\n",
       " ('nous allons mourir de froid .', 'we re death death death . EOS . EOS'),\n",
       " ('tu joues au chef .', 'you re missing here .'),\n",
       " ('elle n a pas honte de son inconduite .', 'she s ashamed her her . . . EOS'),\n",
       " ('elles ont des ennuis .', 'they re fond of . EOS'),\n",
       " ('tu n es pas autorisee a penetrer ici .', 'you re not helping to the . EOS'),\n",
       " ('tu es fabuleux .', 'you re very sophisticated .'),\n",
       " ('je suis plus qu heureux .', 'i m more clever . EOS EOS'),\n",
       " ('elle est une artiste nee .', 'she is an true artist . EOS'),\n",
       " ('je suis parfaitement bien .', 'i m perfectly good . EOS EOS'),\n",
       " ('je plie ma robe .', 'i m my old . . EOS'),\n",
       " ('nous manquons quelque chose ici .', 'we re not here here here here'),\n",
       " ('il fait du velo .', 'he is riding at . EOS EOS'),\n",
       " ('vous etes fort raffinee .', 'you re very sophisticated . EOS'),\n",
       " ('nous nous bercons d illusions .', 'we re calling happy . EOS'),\n",
       " ('nous y sommes presque .', 'we re almost . EOS EOS'),\n",
       " ('tu es le maitre .', 'you re callous . . EOS'),\n",
       " ('il est fiance a ma s ur .', 'he s making sick . EOS EOS EOS'),\n",
       " ('il s affaire aux preparatifs du voyage .',\n",
       "  'she is preparing preparing . . EOS EOS EOS'),\n",
       " ('tu es une vraie loque .', 'you re a real wreck . EOS'),\n",
       " ('c est une femme tranquille .', 'she is more brother . . EOS'),\n",
       " ('elle est desormais medecin .', 'she s pregnant doctor . EOS EOS'),\n",
       " ('j ai un peu mal .', 'i m a little hurt trouble .'),\n",
       " ('il est en train de nager .', 'he s reading . . EOS'),\n",
       " ('ils expriment leur amour en s enlacant .',\n",
       "  'they re speaking expressing . EOS hugging . EOS'),\n",
       " ('vous etes celui qui a plante cet arbre .',\n",
       "  'you re tree tree tree tree tree tree tree tree'),\n",
       " ('elle est non seulement intelligente mais aussi jolie .',\n",
       "  'she is an tall as situation . EOS EOS'),\n",
       " ('il est attire par les femmes asiatiques .',\n",
       "  'he attracted attracted attracted . . . EOS'),\n",
       " ('il l a fait auparavant .', 'he s in on complaints . .'),\n",
       " ('ils sont tous les memes .', 'they re same same same . EOS'),\n",
       " ('je suis content d avoir pu aider .', 'i m willing to help you you . EOS'),\n",
       " ('je ne tiens pas en place .', 'i m not a model'),\n",
       " ('j ai hate de te voir bientot .',\n",
       "  'i m looking forward forward seeing forward forward forward .'),\n",
       " ('je suis en train d ecrire un bouquin .', 'i m writing looking at . EOS'),\n",
       " ('je ne suis pas surprise .', 'i m not eating . EOS'),\n",
       " ('ils sont tous coupables .', 'they re all all . EOS'),\n",
       " ('ils sont de retour .', 'they re looking to help'),\n",
       " ('nous ne sommes pas invites .', 'we re not your . EOS'),\n",
       " ('ils parlent en francais .', 'they re speaking french french french'),\n",
       " ('nous sommes cernes .', 'we re engaged . EOS'),\n",
       " ('je suis au lit .', 'i m bed bed bed bed'),\n",
       " ('nous sommes endurants .', 'we re sneaky . EOS'),\n",
       " ('je ne suis pas en mal d argent .', 'i m not not safe for . EOS'),\n",
       " ('tu es le meilleur .', 'you re the best best EOS'),\n",
       " ('nous sommes habitues a porter des chaussures .',\n",
       "  'we re accustomed wearing shoes shoes EOS EOS'),\n",
       " ('c est vraiment un homme de parole .', 'he s a a man man a . EOS EOS'),\n",
       " ('il est accro aux methamphetamines .', 'he is addicted . EOS . EOS'),\n",
       " ('je suis sur qu elle partira tot .', 'i m sure sure early . . EOS EOS'),\n",
       " ('je ne suis pas vraiment un expert .', 'i m really really t a EOS EOS'),\n",
       " ('tu n es pas encore adolescent .', 'you re not good teenager yet . EOS'),\n",
       " ('je crains que nous ne puissions vous aider .',\n",
       "  'i m not afraid to help help you . EOS'),\n",
       " ('je me rejouis que tu sois venu .', 'i m glad you that that . EOS'),\n",
       " ('il dit un mensonge .', 'he is a knitting . . EOS'),\n",
       " ('elle ecrit une lettre maintenant .', 'she is a a poor tv . EOS'),\n",
       " ('tu es responsable de cet accident .', 'you re the at the . EOS EOS'),\n",
       " ('tu n ecoutes pas !', 'you re not ! ! EOS'),\n",
       " ('j ai honte de mon corps .', 'i m ashamed ashamed my my . EOS'),\n",
       " ('ils ne sont pas si mauvais .', 'they re not evil . EOS EOS'),\n",
       " ('il est sans espoir .', 'he is a born . EOS EOS'),\n",
       " ('c est un gros mangeur .', 'he is a born a . EOS'),\n",
       " ('je ne suis pas presentable .', 'i m not ready . EOS'),\n",
       " ('j en ai marre d etre prudent .', 'i m sick careful . EOS . EOS'),\n",
       " ('c est toi l ainee .', 'you re the master . EOS'),\n",
       " ('je ne fais qu une suggestion .', 'i m not as a child . EOS'),\n",
       " ('tu es tellement belle dans cette robe !',\n",
       "  'you re in so good liar . EOS EOS'),\n",
       " ('elle est au lit enrhumee .', 'she is the dieting . EOS . EOS EOS'),\n",
       " ('je m adapte .', 'i m so fat .'),\n",
       " ('il n est pas de tres bonne compagnie .', 'he is not very of favor . EOS'),\n",
       " ('ils se voient confrontes a des difficultes financieres .',\n",
       "  'they facing financial financial problems . EOS'),\n",
       " ('c est un gentleman .', 'he is gentleman gentleman gentleman . gentleman'),\n",
       " ('nous ne sommes pas des tueuses .', 'we re not a suspect .'),\n",
       " ('il est absent de l ecole .', 'he s often of often . EOS'),\n",
       " ('nous sommes disponibles .', 'we re perfectly . .'),\n",
       " ('nous cooperons .', 'we re cooperating . EOS'),\n",
       " ('nous sommes juste fatigues .', 'we re just glad for EOS'),\n",
       " ('je vis dans une ville .', 'i m a little walk . EOS EOS'),\n",
       " ('il ne travaille pas beaucoup en ce moment .',\n",
       "  'he is now a now now now . EOS now'),\n",
       " ('tu es seul n est ce pas ?', 'you re brother aren t you ? EOS'),\n",
       " ('elle est gentille .', 'she is dressed . EOS'),\n",
       " ('en realite il n est pas l impresario .', 'he is not not the this . EOS'),\n",
       " ('je suis quasiment pret .', 'i m ready ready . EOS'),\n",
       " ('je me vets .', 'i m getting dressed . EOS'),\n",
       " ('nous sommes ici .', 'we re here . EOS')]"
      ]
     },
     "execution_count": 193,
     "metadata": {},
     "output_type": "execute_result"
    }
   ],
   "source": [
    "sample_ouputs[-100:-1]"
   ]
  },
  {
   "cell_type": "code",
   "execution_count": 166,
   "metadata": {},
   "outputs": [
    {
     "data": {
      "text/plain": [
       "[('j ai ans .', 'consultant drunkard consultant talker ask company anything'),\n",
       " ('je vais bien .', 'he s s EOS EOS EOS'),\n",
       " ('ca va .', 'he he EOS EOS EOS'),\n",
       " ('je suis gras .', 'he . EOS EOS EOS EOS'),\n",
       " ('je suis gros .', 'he . . EOS EOS EOS'),\n",
       " ('je suis en forme .', 'you . EOS EOS EOS EOS EOS EOS EOS'),\n",
       " ('je suis touche !', 'you . . . . EOS'),\n",
       " ('je suis touchee !', 'you . . . . EOS'),\n",
       " ('je suis malade .', 'you . . . . . EOS'),\n",
       " ('je suis triste .', 'you re . . . . . . EOS'),\n",
       " ('je suis timide .', 'you re re re . . EOS'),\n",
       " ('je suis mouille .', 'you re re re re EOS'),\n",
       " ('je suis mouillee .', 'you re re re re . . EOS'),\n",
       " ('il est mouille .', 'you re re re re EOS'),\n",
       " ('je suis gras .', 'you re re . . EOS'),\n",
       " ('je suis revenu .', 'we re re . . . EOS'),\n",
       " ('me revoila .', 'we we . . . . EOS'),\n",
       " ('je suis chauve .', 'we we . . EOS'),\n",
       " ('je suis occupe .', 'we we . . . . . EOS'),\n",
       " ('je suis occupee .', 'we we . . . . . . EOS'),\n",
       " ('je suis calme .', 'i i . . EOS'),\n",
       " ('j ai froid .', 'i i i . . . . . . EOS'),\n",
       " ('j en ai fini .', 'i re . . EOS'),\n",
       " ('tout va bien .', 'i i . . EOS'),\n",
       " ('je vais bien .', 'i m m . . EOS'),\n",
       " ('ca va .', 'i m m . . . . . EOS'),\n",
       " ('je suis libre !', 'i re . . . EOS'),\n",
       " ('je suis libre .', 'i m m . . . EOS'),\n",
       " ('je suis disponible .', 'i m m . . EOS'),\n",
       " ('je suis repu !', 'i m m . . . EOS'),\n",
       " ('je suis rassasie !', 'i m m . . . . . EOS'),\n",
       " ('je suis content .', 'i m m . . . . EOS'),\n",
       " ('je suis chez moi .', 'i re . . . . EOS'),\n",
       " ('je suis en retard .', 'i m m . EOS'),\n",
       " ('je suis paresseux .', 'i re not . . EOS'),\n",
       " ('je suis faineant .', 'i re not . EOS'),\n",
       " ('je suis paresseuse .', 'i m not . . . . EOS'),\n",
       " ('je suis faineante .', 'i re not . EOS'),\n",
       " ('je vais bien .', 'you m not . . . . EOS'),\n",
       " ('je me porte bien .', 'you s not . . . EOS'),\n",
       " ('je suis en securite .', 'you m safety . . . . EOS'),\n",
       " ('je suis malade .', 'you m safety . EOS'),\n",
       " ('j en suis certain .', 'you m safety . . . . . EOS'),\n",
       " ('je suis certain .', 'i m safety . EOS'),\n",
       " ('j en suis sur .', 'i s safety . . . EOS'),\n",
       " ('j en suis sure .', 'i m . . . EOS'),\n",
       " ('je suis grande .', 'i m . . EOS'),\n",
       " ('je suis mince .', 'i m . . EOS'),\n",
       " ('je suis ordonne .', 'i m safety . . EOS'),\n",
       " ('je suis ordonnee .', 'i s safety . . . . . EOS')]"
      ]
     },
     "execution_count": 166,
     "metadata": {},
     "output_type": "execute_result"
    }
   ],
   "source": [
    "sample_ouputs[0:50]"
   ]
  },
  {
   "cell_type": "code",
   "execution_count": 194,
   "metadata": {},
   "outputs": [
    {
     "data": {
      "text/plain": [
       "[<matplotlib.lines.Line2D at 0x13c3fdca0>]"
      ]
     },
     "execution_count": 194,
     "metadata": {},
     "output_type": "execute_result"
    },
    {
     "data": {
      "image/png": "[encoded data removed]",
      "text/plain": [
       "<Figure size 432x288 with 1 Axes>"
      ]
     },
     "metadata": {
      "needs_background": "light"
     },
     "output_type": "display_data"
    }
   ],
   "source": [
    "import matplotlib.pyplot as plt\n",
    "\n",
    "plt.figure()\n",
    "plt.plot(all_losses)"
   ]
  }
 ],
 "metadata": {
  "kernelspec": {
   "display_name": "Python 3.9.8 64-bit",
   "language": "python",
   "name": "python3"
  },
  "language_info": {
   "codemirror_mode": {
    "name": "ipython",
    "version": 3
   },
   "file_extension": ".py",
   "mimetype": "text/x-python",
   "name": "python",
   "nbconvert_exporter": "python",
   "pygments_lexer": "ipython3",
   "version": "3.9.8"
  },
  "orig_nbformat": 4,
  "vscode": {
   "interpreter": {
    "hash": "aee8b7b246df8f9039afb4144a1f6fd8d2ca17a180786b69acc140d282b71a49"
   }
  }
 },
 "nbformat": 4,
 "nbformat_minor": 2
}
