{
 "cells": [
  {
   "cell_type": "code",
   "execution_count": 1,
   "metadata": {},
   "outputs": [
    {
     "name": "stderr",
     "output_type": "stream",
     "text": [
      "/usr/local/lib/python3.9/site-packages/tqdm/auto.py:22: TqdmWarning: IProgress not found. Please update jupyter and ipywidgets. See https://ipywidgets.readthedocs.io/en/stable/user_install.html\n",
      "  from .autonotebook import tqdm as notebook_tqdm\n"
     ]
    }
   ],
   "source": [
    "import torch\n",
    "import torch.nn as nn\n",
    "import torch.nn.functional as F\n",
    "from torch import optim\n",
    "import re\n",
    "import unicodedata\n",
    "import random"
   ]
  },
  {
   "cell_type": "code",
   "execution_count": 2,
   "metadata": {},
   "outputs": [],
   "source": [
    "SOS_TOKEN = 0\n",
    "EOS_TOKEN = 1\n",
    "\n",
    "class Lang():\n",
    "    def __init__(self, name):\n",
    "        self.name = name\n",
    "        self.word2index = {}\n",
    "        self.word2count = {}\n",
    "        self.index2word = {SOS_TOKEN:'SOS', EOS_TOKEN: 'EOS'}\n",
    "        self.n_words = 2\n",
    "    \n",
    "    def addWord(self, word):\n",
    "        if word not in self.word2index:\n",
    "            self.word2index[word] = self.n_words\n",
    "            self.index2word[self.n_words] = word\n",
    "            self.word2count[word] = 1\n",
    "            self.n_words += 1\n",
    "            \n",
    "        else:\n",
    "            self.word2count[word] = 1\n",
    "\n",
    "    def addSentence(self, sentence):\n",
    "        for word in sentence.split(' '):\n",
    "            self.addWord(word)"
   ]
  },
  {
   "cell_type": "code",
   "execution_count": 3,
   "metadata": {},
   "outputs": [],
   "source": [
    "# Turn a Unicode string to plain ASCII, thanks to\n",
    "# https://stackoverflow.com/a/518232/2809427\n",
    "def unicodeToAscii(s):\n",
    "    return ''.join(\n",
    "        c for c in unicodedata.normalize('NFD', s)\n",
    "        if unicodedata.category(c) != 'Mn'\n",
    "    )\n",
    "\n",
    "# Lowercase, trim, and remove non-letter characters\n",
    "\n",
    "\n",
    "def normalizeString(s):\n",
    "    s = unicodeToAscii(s.lower().strip())\n",
    "    s = re.sub(r\"([.!?])\", r\" \\1\", s)\n",
    "    s = re.sub(r\"[^a-zA-Z.!?]+\", r\" \", s)\n",
    "    return s"
   ]
  },
  {
   "cell_type": "code",
   "execution_count": 4,
   "metadata": {},
   "outputs": [
    {
     "name": "stdout",
     "output_type": "stream",
     "text": [
      "['Go.\\tVa !\\n', 'Run!\\tCours\\u202f!\\n', 'Run!\\tCourez\\u202f!\\n', 'Wow!\\tÇa alors\\u202f!\\n', 'Fire!\\tAu feu !\\n']\n",
      "None\n"
     ]
    }
   ],
   "source": [
    "with open('data/eng-fra.txt') as f:\n",
    "    lines = f.readlines()\n",
    "    print(lines[:5])\n",
    "    print(re.match('\\n',lines[0]))\n"
   ]
  },
  {
   "cell_type": "code",
   "execution_count": 47,
   "metadata": {},
   "outputs": [],
   "source": [
    "class Encoder(nn.Module):\n",
    "    def __init__(self, input_size, hidden_size):\n",
    "        super(Encoder, self).__init__()\n",
    "        self.hidden_size = hidden_size\n",
    "        self.embedding = nn.Embedding(input_size, hidden_size)\n",
    "        self.rnn = nn.GRU(hidden_size,hidden_size)\n",
    "\n",
    "    def forward(self, input, hidden):\n",
    "        embed = self.embedding(input).view(1,1,-1)\n",
    "        # let's log it first to see the shape\n",
    "        # need to unroll it with \n",
    "        out, hidden = self.rnn(embed, hidden)\n",
    "\n",
    "        return (out, hidden)\n",
    "    \n",
    "    def initHidden(self):\n",
    "        return torch.zeros(1, 1, self.hidden_size)\n",
    "\n",
    "class Decoder(nn.Module):\n",
    "    def __init__(self, input_size, hidden_size,):\n",
    "        super(Decoder, self).__init__()\n",
    "        self.hidden_size = hidden_size\n",
    "\n",
    "        self.embedding = nn.Embedding(input_size, hidden_size)\n",
    "        self.rnn = nn.GRU(hidden_size, hidden_size)\n",
    "        self.out = nn.Linear(hidden_size, input_size)\n",
    "        self.softmax = nn.LogSoftmax(dim=2)\n",
    "\n",
    "    def forward(self, input, hidden):\n",
    "        \n",
    "        embed = self.embedding(input).view(1,1,-1)\n",
    "        \n",
    "        out = F.relu(embed)\n",
    "\n",
    "        # print('DECODER INTERNAL out 1: ', out)\n",
    "\n",
    "        out, hidden = self.rnn(out, hidden)\n",
    "\n",
    "        # print('DECODER INTERNAL out 2: ', out)\n",
    "\n",
    "        out = self.out(out)\n",
    "\n",
    "        # print('DECODER INTERNAL out 3: ', out)\n",
    "        out = self.softmax(out)\n",
    "\n",
    "        # print('DECODER INTERNAL out 4: ', out)\n",
    "\n",
    "        return (out, hidden)\n",
    "    \n",
    "    def initHidden(self):\n",
    "        return torch.zeros(1, 1, self.hidden_size)"
   ]
  },
  {
   "cell_type": "code",
   "execution_count": 6,
   "metadata": {},
   "outputs": [],
   "source": [
    "def readLangs(lang1, lang2, reverse=False):\n",
    "    print(\"Reading lines...\")\n",
    "\n",
    "    # Read the file and split into lines\n",
    "    lines = open('data/%s-%s.txt' % (lang1, lang2), encoding='utf-8').\\\n",
    "        read().strip().split('\\n')\n",
    "\n",
    "    # Split every line into pairs and normalize\n",
    "    pairs = [[normalizeString(s) for s in l.split('\\t')] for l in lines]\n",
    "\n",
    "    # Reverse pairs, make Lang instances\n",
    "    if reverse:\n",
    "        pairs = [list(reversed(p)) for p in pairs]\n",
    "        input_lang = Lang(lang2)\n",
    "        output_lang = Lang(lang1)\n",
    "    else:\n",
    "        input_lang = Lang(lang1)\n",
    "        output_lang = Lang(lang2)\n",
    "\n",
    "    return input_lang, output_lang, pairs\n",
    "\n",
    "MAX_LENGTH = 10\n",
    "\n",
    "eng_prefixes = (\n",
    "    \"i am \", \"i m \",\n",
    "    \"he is\", \"he s \",\n",
    "    \"she is\", \"she s \",\n",
    "    \"you are\", \"you re \",\n",
    "    \"we are\", \"we re \",\n",
    "    \"they are\", \"they re \"\n",
    ")\n",
    "\n",
    "\n",
    "def filterPair(p):\n",
    "    return len(p[0].split(' ')) < MAX_LENGTH and \\\n",
    "        len(p[1].split(' ')) < MAX_LENGTH and \\\n",
    "        p[1].startswith(eng_prefixes)\n",
    "\n",
    "\n",
    "def filterPairs(pairs):\n",
    "    return [pair for pair in pairs if filterPair(pair)]"
   ]
  },
  {
   "cell_type": "code",
   "execution_count": 7,
   "metadata": {},
   "outputs": [
    {
     "name": "stdout",
     "output_type": "stream",
     "text": [
      "Reading lines...\n",
      "Read 135842 sentence pairs\n",
      "Trimmed to 10599 sentence pairs\n",
      "Counting words...\n",
      "Counted words:\n",
      "fra 4345\n",
      "eng 2803\n",
      "['tu es plus grand que moi .', 'you re taller than i am .']\n",
      "['tu es en danger .', 'you re in danger .']\n"
     ]
    }
   ],
   "source": [
    "def prepareData(lang1, lang2, reverse=False):\n",
    "    input_lang, output_lang, pairs = readLangs(lang1, lang2, reverse)\n",
    "    print(\"Read %s sentence pairs\" % len(pairs))\n",
    "    pairs = filterPairs(pairs)\n",
    "    print(\"Trimmed to %s sentence pairs\" % len(pairs))\n",
    "    print(\"Counting words...\")\n",
    "    for pair in pairs:\n",
    "        input_lang.addSentence(pair[0])\n",
    "        output_lang.addSentence(pair[1])\n",
    "    print(\"Counted words:\")\n",
    "    print(input_lang.name, input_lang.n_words)\n",
    "    print(output_lang.name, output_lang.n_words)\n",
    "    return input_lang, output_lang, pairs\n",
    "\n",
    "\n",
    "input_lang, output_lang, pairs = prepareData('eng', 'fra', True)\n",
    "print(random.choice(pairs))\n",
    "print(random.choice(pairs))"
   ]
  },
  {
   "cell_type": "code",
   "execution_count": 26,
   "metadata": {},
   "outputs": [
    {
     "name": "stdout",
     "output_type": "stream",
     "text": [
      "(tensor([[   6],\n",
      "        [  11],\n",
      "        [ 109],\n",
      "        [ 417],\n",
      "        [   6],\n",
      "        [ 118],\n",
      "        [   3],\n",
      "        [3818],\n",
      "        [   5],\n",
      "        [   1]]), tensor([[   2],\n",
      "        [   3],\n",
      "        [  69],\n",
      "        [1372],\n",
      "        [   2],\n",
      "        [ 618],\n",
      "        [ 129],\n",
      "        [   4],\n",
      "        [   1]]), 'je suis desole si je vous ai embarrassees .', 'i m sorry if i embarrassed you .')\n",
      "(tensor([[528],\n",
      "        [349],\n",
      "        [194],\n",
      "        [529],\n",
      "        [  5],\n",
      "        [  1]]), tensor([[221],\n",
      "        [ 78],\n",
      "        [307],\n",
      "        [  4],\n",
      "        [  1]]), 'ce sont des garcons .', 'they re boys .')\n"
     ]
    }
   ],
   "source": [
    "# ideally we hot encode the dataset, so we don't do it at the time of the training loop\n",
    "dataset = []\n",
    "\n",
    "def sentenceToIndexes(lang, sentence):\n",
    "    return [lang.word2index[word] for word in sentence.split(' ')]\n",
    "\n",
    "def sentenceToTensor(lang, sentence):\n",
    "    ind = sentenceToIndexes(lang, sentence)\n",
    "    ind.append(EOS_TOKEN)\n",
    "\n",
    "    return torch.tensor(ind,dtype=torch.long).view(-1, 1)\n",
    "\n",
    "for pair in pairs:\n",
    "    dataset.append((\n",
    "        sentenceToTensor(input_lang,pair[0]),\n",
    "        sentenceToTensor(output_lang,pair[1]),\n",
    "        pair[0],\n",
    "        pair[1]\n",
    "    \n",
    "    ))\n",
    "\n",
    "\n",
    "\n",
    "print(random.choice(dataset))\n",
    "print(random.choice(dataset))\n",
    "    "
   ]
  },
  {
   "cell_type": "markdown",
   "metadata": {},
   "source": [
    "# Training loop"
   ]
  },
  {
   "cell_type": "code",
   "execution_count": 13,
   "metadata": {},
   "outputs": [
    {
     "data": {
      "text/plain": [
       "4345"
      ]
     },
     "execution_count": 13,
     "metadata": {},
     "output_type": "execute_result"
    }
   ],
   "source": [
    "input_lang.n_words\n"
   ]
  },
  {
   "cell_type": "code",
   "execution_count": 14,
   "metadata": {},
   "outputs": [
    {
     "data": {
      "text/plain": [
       "2803"
      ]
     },
     "execution_count": 14,
     "metadata": {},
     "output_type": "execute_result"
    }
   ],
   "source": [
    "output_lang.n_words"
   ]
  },
  {
   "cell_type": "code",
   "execution_count": 108,
   "metadata": {},
   "outputs": [
    {
     "name": "stdout",
     "output_type": "stream",
     "text": [
      "index..  100 epoch......  0  loss......  3.237690505981445\n",
      "index..  200 epoch......  0  loss......  2.3552697114944454\n",
      "index..  300 epoch......  0  loss......  2.589359596888225\n",
      "index..  400 epoch......  0  loss......  1.9401830409367884\n",
      "index..  500 epoch......  0  loss......  2.0948022130330397\n",
      "index..  600 epoch......  0  loss......  2.2081492551167803\n",
      "index..  700 epoch......  0  loss......  2.1729643402099605\n",
      "index..  800 epoch......  0  loss......  1.8437348880767828\n",
      "index..  900 epoch......  0  loss......  2.1114242048263545\n",
      "index..  1000 epoch......  0  loss......  2.0603916620072864\n",
      "index..  1100 epoch......  0  loss......  2.002584690343766\n",
      "index..  1200 epoch......  0  loss......  1.816458715756735\n",
      "index..  1300 epoch......  0  loss......  1.894667224679674\n",
      "index..  1400 epoch......  0  loss......  2.4312988329387846\n",
      "index..  1500 epoch......  0  loss......  2.3054464456694466\n",
      "index..  1600 epoch......  0  loss......  1.7915739874839784\n",
      "index..  1700 epoch......  0  loss......  1.8639976919492087\n",
      "index..  1800 epoch......  0  loss......  2.597249987148103\n",
      "index..  1900 epoch......  0  loss......  2.1121633736519594\n",
      "index..  2000 epoch......  0  loss......  2.054660643850054\n",
      "index..  2100 epoch......  0  loss......  1.9847428569793701\n",
      "index..  2200 epoch......  0  loss......  1.833846209843953\n",
      "index..  2300 epoch......  0  loss......  2.0701081868580413\n",
      "index..  2400 epoch......  0  loss......  2.674384977862948\n",
      "index..  2500 epoch......  0  loss......  2.3110298416273927\n",
      "index..  2600 epoch......  0  loss......  1.9664049919446311\n",
      "index..  2700 epoch......  0  loss......  2.0524255817958292\n",
      "index..  2800 epoch......  0  loss......  1.5728447123368579\n",
      "index..  2900 epoch......  0  loss......  1.4430960903579282\n",
      "index..  3000 epoch......  0  loss......  2.881705515021368\n",
      "index..  3100 epoch......  0  loss......  2.177173740114484\n",
      "index..  3200 epoch......  0  loss......  2.3588728869756066\n",
      "index..  3300 epoch......  0  loss......  2.0242913818359365\n",
      "index..  3400 epoch......  0  loss......  1.9420752857072006\n",
      "index..  3500 epoch......  0  loss......  1.1621686726870641\n",
      "index..  3600 epoch......  0  loss......  2.0814288766371702\n",
      "index..  3700 epoch......  0  loss......  2.786379070281983\n"
     ]
    },
    {
     "ename": "KeyboardInterrupt",
     "evalue": "",
     "output_type": "error",
     "traceback": [
      "\u001b[0;31m---------------------------------------------------------------------------\u001b[0m",
      "\u001b[0;31mKeyboardInterrupt\u001b[0m                         Traceback (most recent call last)",
      "\u001b[1;32m/Users/roman/workspace/dl-experiments/translate/translate.ipynb Cell 12\u001b[0m in \u001b[0;36m<cell line: 55>\u001b[0;34m()\u001b[0m\n\u001b[1;32m     <a href='vscode-notebook-cell:/Users/roman/workspace/dl-experiments/translate/translate.ipynb#X12sZmlsZQ%3D%3D?line=55'>56</a>\u001b[0m \u001b[39mfor\u001b[39;00m i \u001b[39min\u001b[39;00m \u001b[39mrange\u001b[39m(\u001b[39m0\u001b[39m,\u001b[39mlen\u001b[39m(dataset)):\n\u001b[1;32m     <a href='vscode-notebook-cell:/Users/roman/workspace/dl-experiments/translate/translate.ipynb#X12sZmlsZQ%3D%3D?line=56'>57</a>\u001b[0m     index \u001b[39m+\u001b[39m\u001b[39m=\u001b[39m \u001b[39m1\u001b[39m\n\u001b[0;32m---> <a href='vscode-notebook-cell:/Users/roman/workspace/dl-experiments/translate/translate.ipynb#X12sZmlsZQ%3D%3D?line=57'>58</a>\u001b[0m     output, normalized_loss \u001b[39m=\u001b[39m trainSentence(dataset[i][\u001b[39m0\u001b[39;49m], dataset[i][\u001b[39m1\u001b[39;49m], encoder, decoder, encoder_optimizer, decoder_optimizer)\n\u001b[1;32m     <a href='vscode-notebook-cell:/Users/roman/workspace/dl-experiments/translate/translate.ipynb#X12sZmlsZQ%3D%3D?line=58'>59</a>\u001b[0m     total_loss \u001b[39m+\u001b[39m\u001b[39m=\u001b[39m normalized_loss\n\u001b[1;32m     <a href='vscode-notebook-cell:/Users/roman/workspace/dl-experiments/translate/translate.ipynb#X12sZmlsZQ%3D%3D?line=60'>61</a>\u001b[0m     \u001b[39mif\u001b[39;00m index \u001b[39m%\u001b[39m plot_every \u001b[39m==\u001b[39m \u001b[39m0\u001b[39m:\n",
      "\u001b[1;32m/Users/roman/workspace/dl-experiments/translate/translate.ipynb Cell 12\u001b[0m in \u001b[0;36mtrainSentence\u001b[0;34m(input_tensor, target_tensor, encoder, decoder, encoder_optimizer, decoder_optimizer)\u001b[0m\n\u001b[1;32m     <a href='vscode-notebook-cell:/Users/roman/workspace/dl-experiments/translate/translate.ipynb#X12sZmlsZQ%3D%3D?line=41'>42</a>\u001b[0m     \u001b[39m# print('max',torch.max(output[0]))\u001b[39;00m\n\u001b[1;32m     <a href='vscode-notebook-cell:/Users/roman/workspace/dl-experiments/translate/translate.ipynb#X12sZmlsZQ%3D%3D?line=42'>43</a>\u001b[0m \n\u001b[1;32m     <a href='vscode-notebook-cell:/Users/roman/workspace/dl-experiments/translate/translate.ipynb#X12sZmlsZQ%3D%3D?line=43'>44</a>\u001b[0m \u001b[39m# print('loss:', loss) \u001b[39;00m\n\u001b[1;32m     <a href='vscode-notebook-cell:/Users/roman/workspace/dl-experiments/translate/translate.ipynb#X12sZmlsZQ%3D%3D?line=44'>45</a>\u001b[0m normalized_loss \u001b[39m=\u001b[39m loss\u001b[39m.\u001b[39mitem() \u001b[39m/\u001b[39m (target_tensor\u001b[39m.\u001b[39msize(\u001b[39m0\u001b[39m) \u001b[39m+\u001b[39m \u001b[39m0.0\u001b[39m)\n\u001b[0;32m---> <a href='vscode-notebook-cell:/Users/roman/workspace/dl-experiments/translate/translate.ipynb#X12sZmlsZQ%3D%3D?line=46'>47</a>\u001b[0m loss\u001b[39m.\u001b[39;49mbackward()\n\u001b[1;32m     <a href='vscode-notebook-cell:/Users/roman/workspace/dl-experiments/translate/translate.ipynb#X12sZmlsZQ%3D%3D?line=47'>48</a>\u001b[0m encoder_optimizer\u001b[39m.\u001b[39mstep()\n\u001b[1;32m     <a href='vscode-notebook-cell:/Users/roman/workspace/dl-experiments/translate/translate.ipynb#X12sZmlsZQ%3D%3D?line=48'>49</a>\u001b[0m decoder_optimizer\u001b[39m.\u001b[39mstep()\n",
      "File \u001b[0;32m/usr/local/lib/python3.9/site-packages/torch/_tensor.py:396\u001b[0m, in \u001b[0;36mTensor.backward\u001b[0;34m(self, gradient, retain_graph, create_graph, inputs)\u001b[0m\n\u001b[1;32m    387\u001b[0m \u001b[39mif\u001b[39;00m has_torch_function_unary(\u001b[39mself\u001b[39m):\n\u001b[1;32m    388\u001b[0m     \u001b[39mreturn\u001b[39;00m handle_torch_function(\n\u001b[1;32m    389\u001b[0m         Tensor\u001b[39m.\u001b[39mbackward,\n\u001b[1;32m    390\u001b[0m         (\u001b[39mself\u001b[39m,),\n\u001b[0;32m   (...)\u001b[0m\n\u001b[1;32m    394\u001b[0m         create_graph\u001b[39m=\u001b[39mcreate_graph,\n\u001b[1;32m    395\u001b[0m         inputs\u001b[39m=\u001b[39minputs)\n\u001b[0;32m--> 396\u001b[0m torch\u001b[39m.\u001b[39;49mautograd\u001b[39m.\u001b[39;49mbackward(\u001b[39mself\u001b[39;49m, gradient, retain_graph, create_graph, inputs\u001b[39m=\u001b[39;49minputs)\n",
      "File \u001b[0;32m/usr/local/lib/python3.9/site-packages/torch/autograd/__init__.py:173\u001b[0m, in \u001b[0;36mbackward\u001b[0;34m(tensors, grad_tensors, retain_graph, create_graph, grad_variables, inputs)\u001b[0m\n\u001b[1;32m    168\u001b[0m     retain_graph \u001b[39m=\u001b[39m create_graph\n\u001b[1;32m    170\u001b[0m \u001b[39m# The reason we repeat same the comment below is that\u001b[39;00m\n\u001b[1;32m    171\u001b[0m \u001b[39m# some Python versions print out the first line of a multi-line function\u001b[39;00m\n\u001b[1;32m    172\u001b[0m \u001b[39m# calls in the traceback and some print out the last line\u001b[39;00m\n\u001b[0;32m--> 173\u001b[0m Variable\u001b[39m.\u001b[39;49m_execution_engine\u001b[39m.\u001b[39;49mrun_backward(  \u001b[39m# Calls into the C++ engine to run the backward pass\u001b[39;49;00m\n\u001b[1;32m    174\u001b[0m     tensors, grad_tensors_, retain_graph, create_graph, inputs,\n\u001b[1;32m    175\u001b[0m     allow_unreachable\u001b[39m=\u001b[39;49m\u001b[39mTrue\u001b[39;49;00m, accumulate_grad\u001b[39m=\u001b[39;49m\u001b[39mTrue\u001b[39;49;00m)\n",
      "\u001b[0;31mKeyboardInterrupt\u001b[0m: "
     ]
    }
   ],
   "source": [
    "criterion = nn.NLLLoss() \n",
    "hidden_size = 128 \n",
    "learning_rate = 0.001 \n",
    "encoder = Encoder(input_lang.n_words, hidden_size) \n",
    "decoder = Decoder(output_lang.n_words, hidden_size) \n",
    "encoder_optimizer = optim.Adam(encoder.parameters(), lr=learning_rate) \n",
    "decoder_optimizer = optim.Adam(decoder.parameters(), lr=learning_rate) \n",
    "sample_ouputs = []\n",
    "\n",
    "all_losses = []\n",
    "plot_every = 100\n",
    "total_loss = 0.0\n",
    "\n",
    "\n",
    "def trainSentence(input_tensor, target_tensor, encoder, decoder, encoder_optimizer, decoder_optimizer): \n",
    "    encoder_optimizer.zero_grad() \n",
    "    decoder_optimizer.zero_grad() \n",
    "    \n",
    "    hidden = encoder.initHidden() \n",
    "    loss = 0.0\n",
    "\n",
    "    for word in input_tensor: \n",
    "        # print('enc word: ', word) \n",
    "        output, hidden = encoder(word, hidden) \n",
    "        # print('enc hidden: ', hidden) \n",
    "        # print('enc output: ', output) \n",
    "    \n",
    "    # print('=============== DONE WITH ENCODING')\n",
    "    output_tensors = [] # Teacher forcing by default, let's do couple of runs and then do non teacher forced \n",
    "    prev_word = torch.tensor([SOS_TOKEN]) \n",
    "    for word in target_tensor: \n",
    "        output, hidden = decoder(prev_word, hidden) \n",
    "\n",
    "        # print('dec hidden: ', hidden) \n",
    "        # print('dec output: ', output) \n",
    "        \n",
    "        prev_word = word \n",
    "        # print('output: ', output[0].size()) \n",
    "        # print('word: ', word) # for each word compute loss ? or just do it in the end # compare word with output \n",
    "        loss += criterion(output[0], word)\n",
    "        output_tensors.append(output[0]) \n",
    "        # print('max',torch.max(output[0]))\n",
    "\n",
    "    # print('loss:', loss) \n",
    "    normalized_loss = loss.item() / (target_tensor.size(0) + 0.0)\n",
    "\n",
    "    loss.backward()\n",
    "    encoder_optimizer.step()\n",
    "    decoder_optimizer.step()\n",
    "\n",
    "    return (output_tensors, normalized_loss)\n",
    "\n",
    "\n",
    "\n",
    "index = 0\n",
    "for epoch in range(1):\n",
    "    for i in range(0,len(dataset)):\n",
    "        index += 1\n",
    "        output, normalized_loss = trainSentence(dataset[i][0], dataset[i][1], encoder, decoder, encoder_optimizer, decoder_optimizer)\n",
    "        total_loss += normalized_loss\n",
    "        \n",
    "        if index % plot_every == 0:\n",
    "            all_losses.append(total_loss / (plot_every + 0.0))\n",
    "            total_loss = 0\n",
    "            print('index.. ', index, 'epoch...... ', epoch, ' loss...... ',all_losses[-1])\n"
   ]
  },
  {
   "cell_type": "code",
   "execution_count": 112,
   "metadata": {},
   "outputs": [
    {
     "name": "stdout",
     "output_type": "stream",
     "text": [
      "i\n",
      "m\n",
      "letting\n",
      "to\n",
      ".\n",
      ".\n",
      "EOS\n"
     ]
    }
   ],
   "source": [
    "for b in output:\n",
    "    a = torch.argmax(b)\n",
    "    print(output_lang.index2word[a.item()])"
   ]
  },
  {
   "cell_type": "code",
   "execution_count": 110,
   "metadata": {},
   "outputs": [
    {
     "data": {
      "text/plain": [
       "[<matplotlib.lines.Line2D at 0x13b1a09d0>]"
      ]
     },
     "execution_count": 110,
     "metadata": {},
     "output_type": "execute_result"
    },
    {
     "data": {
      "image/png": "[encoded data removed]",
      "text/plain": [
       "<Figure size 432x288 with 1 Axes>"
      ]
     },
     "metadata": {
      "needs_background": "light"
     },
     "output_type": "display_data"
    }
   ],
   "source": [
    "import matplotlib.pyplot as plt\n",
    "\n",
    "plt.figure()\n",
    "plt.plot(all_losses)"
   ]
  }
 ],
 "metadata": {
  "kernelspec": {
   "display_name": "Python 3.9.8 64-bit",
   "language": "python",
   "name": "python3"
  },
  "language_info": {
   "codemirror_mode": {
    "name": "ipython",
    "version": 3
   },
   "file_extension": ".py",
   "mimetype": "text/x-python",
   "name": "python",
   "nbconvert_exporter": "python",
   "pygments_lexer": "ipython3",
   "version": "3.9.8"
  },
  "orig_nbformat": 4,
  "vscode": {
   "interpreter": {
    "hash": "aee8b7b246df8f9039afb4144a1f6fd8d2ca17a180786b69acc140d282b71a49"
   }
  }
 },
 "nbformat": 4,
 "nbformat_minor": 2
}
