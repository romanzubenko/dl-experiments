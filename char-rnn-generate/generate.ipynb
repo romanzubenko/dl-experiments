{
 "cells": [
  {
   "cell_type": "code",
   "execution_count": 2,
   "metadata": {},
   "outputs": [],
   "source": [
    "import torch \n",
    "import torch.nn.functional as F\n",
    "import numpy as np\n",
    "from torch import nn"
   ]
  },
  {
   "cell_type": "code",
   "execution_count": 4,
   "metadata": {},
   "outputs": [
    {
     "name": "stdout",
     "output_type": "stream",
     "text": [
      "# categories: 18 ['Czech', 'German', 'Arabic', 'Japanese', 'Chinese', 'Vietnamese', 'Russian', 'French', 'Irish', 'English', 'Spanish', 'Greek', 'Italian', 'Portuguese', 'Scottish', 'Dutch', 'Korean', 'Polish']\n",
      "O'Neal\n"
     ]
    }
   ],
   "source": [
    "# this is copy pasted from tutorial\n",
    "from __future__ import unicode_literals, print_function, division\n",
    "from io import open\n",
    "import glob\n",
    "import os\n",
    "import unicodedata\n",
    "import string\n",
    "\n",
    "all_letters = string.ascii_letters + \" .,;'-\"\n",
    "n_letters = len(all_letters) + 1 # Plus EOS marker\n",
    "\n",
    "def findFiles(path): return glob.glob(path)\n",
    "\n",
    "# Turn a Unicode string to plain ASCII, thanks to https://stackoverflow.com/a/518232/2809427\n",
    "def unicodeToAscii(s):\n",
    "    return ''.join(\n",
    "        c for c in unicodedata.normalize('NFD', s)\n",
    "        if unicodedata.category(c) != 'Mn'\n",
    "        and c in all_letters\n",
    "    )\n",
    "\n",
    "# Read a file and split into lines\n",
    "def readLines(filename):\n",
    "    with open(filename, encoding='utf-8') as some_file:\n",
    "        return [unicodeToAscii(line.strip()) for line in some_file]\n",
    "\n",
    "# Build the category_lines dictionary, a list of lines per category\n",
    "category_lines = {}\n",
    "all_categories = []\n",
    "for filename in findFiles('../char-rnn-classify/data/names/*.txt'):\n",
    "    category = os.path.splitext(os.path.basename(filename))[0]\n",
    "    all_categories.append(category)\n",
    "    lines = readLines(filename)\n",
    "    category_lines[category] = lines\n",
    "\n",
    "n_categories = len(all_categories)\n",
    "\n",
    "if n_categories == 0:\n",
    "    raise RuntimeError('Data not found. Make sure that you downloaded data '\n",
    "        'from https://download.pytorch.org/tutorial/data.zip and extract it to '\n",
    "        'the current directory.')\n",
    "\n",
    "print('# categories:', n_categories, all_categories)\n",
    "print(unicodeToAscii(\"O'Néàl\"))"
   ]
  },
  {
   "cell_type": "code",
   "execution_count": 51,
   "metadata": {},
   "outputs": [],
   "source": [
    "class Model(nn.Module):\n",
    "    def __init__(self, input_size, hidden_size, output_size, n_categories):\n",
    "        super(Model,self).__init__()\n",
    "        self.hidden_size = hidden_size\n",
    "        \n",
    "        self.i2o = nn.Linear(n_categories + input_size + hidden_size, output_size)\n",
    "        self.i2h = nn.Linear(n_categories + input_size + hidden_size, hidden_size)\n",
    "\n",
    "        self.o2o = nn.Linear(output_size + hidden_size, output_size)\n",
    "\n",
    "        self.dropout = nn.Dropout(0.1)\n",
    "        self.softmax = nn.Softmax(dim=1)\n",
    "        \n",
    "    \n",
    "    def forward(self, category, input, hidden):        \n",
    "        combined = torch.cat((category, input, hidden), 1)\n",
    "\n",
    "        out = self.i2o(combined)\n",
    "        hidden = self.i2h(combined)\n",
    "\n",
    "        combined = torch.cat((out, hidden), 1)\n",
    "\n",
    "        out = self.o2o(combined)\n",
    "        out = self.dropout(out)\n",
    "        out = self.softmax(out)\n",
    "\n",
    "        return (out, hidden)\n",
    "    \n",
    "    def init_hidden(self):\n",
    "        return torch.zeros(1, self.hidden_size)\n"
   ]
  },
  {
   "cell_type": "code",
   "execution_count": 6,
   "metadata": {},
   "outputs": [
    {
     "name": "stdout",
     "output_type": "stream",
     "text": [
      "tensor([[0., 0., 0., 0., 0., 0., 0., 0., 0., 0., 0., 0., 0., 0., 0., 0., 0., 0.,\n",
      "         0., 0., 0., 0., 0., 0., 0., 0., 0., 0., 0., 0., 0., 0., 0., 0., 0., 1.,\n",
      "         0., 0., 0., 0., 0., 0., 0., 0., 0., 0., 0., 0., 0., 0., 0., 0., 0., 0.,\n",
      "         0., 0., 0., 0., 0.]])\n",
      "torch.Size([5, 1, 59])\n"
     ]
    }
   ],
   "source": [
    "# Find letter index from all_letters, e.g. \"a\" = 0\n",
    "def letterToIndex(letter):\n",
    "    return all_letters.find(letter)\n",
    "\n",
    "# Just for demonstration, turn a letter into a <1 x n_letters> Tensor\n",
    "def letterToTensor(letter):\n",
    "    tensor = torch.zeros(1, n_letters)\n",
    "    tensor[0][letterToIndex(letter)] = 1\n",
    "    return tensor\n",
    "\n",
    "# Turn a line into a <line_length x 1 x n_letters>,\n",
    "# or an array of one-hot letter vectors\n",
    "def lineToTensor(line):\n",
    "    tensor = torch.zeros(len(line), 1, n_letters)\n",
    "    for li, letter in enumerate(line):\n",
    "        tensor[li][0][letterToIndex(letter)] = 1\n",
    "    return tensor\n",
    "\n",
    "print(letterToTensor('J'))\n",
    "\n",
    "print(lineToTensor('Roman').size())"
   ]
  },
  {
   "cell_type": "markdown",
   "metadata": {},
   "source": [
    "# Prepare the dataset\n",
    "\n",
    "1. For each word hot encode it, add 1 special EOS char in the end.\n",
    "2. Split each word into first n-1 and last n-1 chars.\n",
    "3. Each batch will be just one word. Feed consecutively each letter and accumulate loss over the word and then call backwards."
   ]
  },
  {
   "cell_type": "code",
   "execution_count": 20,
   "metadata": {},
   "outputs": [
    {
     "data": {
      "text/plain": [
       "tensor([[0., 0., 0., 0., 0., 0., 0., 0., 0., 1., 0., 0., 0., 0., 0., 0., 0., 0.]])"
      ]
     },
     "execution_count": 20,
     "metadata": {},
     "output_type": "execute_result"
    }
   ],
   "source": [
    "def getCategoryIndex(category, all_categories):\n",
    "    return all_categories.index(category)\n",
    "\n",
    "def encodeCategory(category, all_categories, all_categories_size):\n",
    "    index = getCategoryIndex(category, all_categories)\n",
    "    tensor = torch.zeros(1, all_categories_size)\n",
    "    tensor[0,index] = 1.0\n",
    "\n",
    "    return tensor\n",
    "\n",
    "getCategoryIndex('English',all_categories)\n",
    "\n",
    "encodeCategory('English',all_categories, len(all_categories))"
   ]
  },
  {
   "cell_type": "code",
   "execution_count": 25,
   "metadata": {},
   "outputs": [
    {
     "name": "stdout",
     "output_type": "stream",
     "text": [
      "Czech\n",
      "German\n",
      "Arabic\n",
      "Japanese\n",
      "Chinese\n",
      "Vietnamese\n",
      "Russian\n",
      "French\n",
      "Irish\n",
      "English\n",
      "Spanish\n",
      "Greek\n",
      "Italian\n",
      "Portuguese\n",
      "Scottish\n",
      "Dutch\n",
      "Korean\n",
      "Polish\n"
     ]
    }
   ],
   "source": [
    "# labels all_categories \n",
    "# dict category_lines\n",
    "\n",
    "# each tuple in dataset = (direction vec + encoded letter)\n",
    "dataset = []\n",
    "\n",
    "all_categories_size = len(all_categories)\n",
    "\n",
    "for category in all_categories:\n",
    "    print(category)\n",
    "    category_encoded = encodeCategory(category, all_categories, all_categories_size)\n",
    "    for word in category_lines[category]:\n",
    "        word_begin = word[:-1]\n",
    "        word_end = word[1:]\n",
    "        word_begin_tensor = lineToTensor(word_begin)\n",
    "        word_end_tensor = lineToTensor(word_end)\n",
    "\n",
    "        dataset.append((category_encoded, word_begin_tensor, word_end_tensor))\n",
    "\n",
    "\n"
   ]
  },
  {
   "cell_type": "code",
   "execution_count": 27,
   "metadata": {},
   "outputs": [
    {
     "data": {
      "text/plain": [
       "20074"
      ]
     },
     "execution_count": 27,
     "metadata": {},
     "output_type": "execute_result"
    }
   ],
   "source": [
    "import random\n",
    "random.shuffle(dataset)\n",
    "len(dataset)"
   ]
  },
  {
   "cell_type": "code",
   "execution_count": 55,
   "metadata": {},
   "outputs": [],
   "source": [
    "model = Model(n_letters, 128, n_letters, len(all_categories))\n",
    "\n",
    "criterion = nn.CrossEntropyLoss()"
   ]
  },
  {
   "cell_type": "code",
   "execution_count": 78,
   "metadata": {},
   "outputs": [],
   "source": [
    "n_epochs = 10\n",
    "learning_rate = 0.0001\n",
    "\n",
    "for epoch in range(n_epochs):\n",
    "    for data in dataset:\n",
    "        direction, letter_input, letter_target = data\n",
    "        \n",
    "        model.zero_grad()\n",
    "        loss = torch.tensor(0.0)\n",
    "        hidden = model.init_hidden()\n",
    "        for letter_index in range(letter_input.size()[1]):\n",
    "            output, hidden = model(direction, letter_input[letter_index], hidden)\n",
    "            loss += criterion(output, letter_target[letter_index])\n",
    "        \n",
    "        loss.backward()\n",
    "        for p in model.parameters():\n",
    "            p.data.add(p.grad.data, alpha=-learning_rate)\n",
    "    print('epoch...... ', epoch, ' loss...... ', loss)\n"
   ]
  },
  {
   "cell_type": "code",
   "execution_count": 76,
   "metadata": {},
   "outputs": [],
   "source": [
    "# Just return an output given a line\n",
    "def evaluate(direction, first_letter):\n",
    "    with torch.no_grad():\n",
    "        direction_tensor = encodeCategory(direction,all_categories,all_categories_size)\n",
    "        letter_tensor = letterToTensor(first_letter)\n",
    "        hidden = model.init_hidden()\n",
    "\n",
    "        limit = 10\n",
    "\n",
    "        outputs = \"\"\n",
    "        for i in range(limit):\n",
    "            output, hidden = model(direction_tensor, letter_tensor, hidden)\n",
    "            outputs += all_letters[torch.argmax(output)]\n",
    "            letter_tensor = output\n",
    "\n",
    "        return outputs"
   ]
  },
  {
   "cell_type": "code",
   "execution_count": 77,
   "metadata": {},
   "outputs": [
    {
     "data": {
      "text/plain": [
       "'DDMDDDDDDD'"
      ]
     },
     "execution_count": 77,
     "metadata": {},
     "output_type": "execute_result"
    }
   ],
   "source": [
    "evaluate('Russian','v')"
   ]
  }
 ],
 "metadata": {
  "kernelspec": {
   "display_name": "Python 3.9.8 64-bit",
   "language": "python",
   "name": "python3"
  },
  "language_info": {
   "codemirror_mode": {
    "name": "ipython",
    "version": 3
   },
   "file_extension": ".py",
   "mimetype": "text/x-python",
   "name": "python",
   "nbconvert_exporter": "python",
   "pygments_lexer": "ipython3",
   "version": "3.9.8"
  },
  "orig_nbformat": 4,
  "vscode": {
   "interpreter": {
    "hash": "aee8b7b246df8f9039afb4144a1f6fd8d2ca17a180786b69acc140d282b71a49"
   }
  }
 },
 "nbformat": 4,
 "nbformat_minor": 2
}
